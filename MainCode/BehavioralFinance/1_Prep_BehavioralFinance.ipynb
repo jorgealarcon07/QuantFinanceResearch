{
 "cells": [
  {
   "cell_type": "markdown",
   "metadata": {},
   "source": [
    "# Preparación de los archivos CSV's"
   ]
  },
  {
   "cell_type": "code",
   "execution_count": 1,
   "metadata": {},
   "outputs": [],
   "source": [
    "# Importar bibliotecas necesarias\n",
    "import pandas as pd\n",
    "import re"
   ]
  },
  {
   "cell_type": "markdown",
   "metadata": {},
   "source": [
    "# PASOS\n"
   ]
  },
  {
   "cell_type": "code",
   "execution_count": 2,
   "metadata": {},
   "outputs": [],
   "source": [
    "# 1. Se importan los csv y se asignan a una variable\n",
    "dfa = pd.read_csv('D:\\CodeProjects\\\\QuantFinanceResearch\\\\CSVs\\\\BehavioralFinance.csv')"
   ]
  },
  {
   "cell_type": "code",
   "execution_count": 4,
   "metadata": {},
   "outputs": [],
   "source": [
    "# 2. Se unen los 3 dataframes en 1 solo\n",
    "# Sólo hay un DataFrame"
   ]
  },
  {
   "cell_type": "code",
   "execution_count": 3,
   "metadata": {},
   "outputs": [
    {
     "name": "stdout",
     "output_type": "stream",
     "text": [
      "INFO ORIGINAL---------------------------------------\n",
      "                                             Authors  \\\n",
      "0             Shirvani A.; Rachev S.T.; Fabozzi F.J.   \n",
      "1  Wijaya H.R.; Hati S.R.H.; Ekaputra I.A.; Kassi...   \n",
      "2                            Sun Z.; Sun X.; Dong Y.   \n",
      "\n",
      "                                   Author full names  \\\n",
      "0  Shirvani, Abootaleb (57217834373); Rachev, Sve...   \n",
      "1  Wijaya, Haykal Rafif (59188300600); Hati, Sri ...   \n",
      "2  Sun, Ziyuan (35206513300); Sun, Xiao (56139117...   \n",
      "\n",
      "                                        Author(s) ID  \\\n",
      "0               57217834373; 7006381002; 57046776500   \n",
      "1  59188300600; 56684881000; 55545530000; 3266763...   \n",
      "2              35206513300; 56139117500; 57240763400   \n",
      "\n",
      "                                               Title  Year  \\\n",
      "0  A rational finance explanation of the stock pr...  2024   \n",
      "1  The impact of religiosity and financial litera...  2024   \n",
      "2  Does negative environmental performance feedba...  2024   \n",
      "\n",
      "                                        Source title Volume Issue Art. No.  \\\n",
      "0                      Review of Financial Economics     42     3      NaN   \n",
      "1      Humanities and Social Sciences Communications     11     1      830   \n",
      "2  Corporate Social Responsibility and Environmen...     31     4      NaN   \n",
      "\n",
      "  Page start Page end  Page count  Cited by                         DOI  \\\n",
      "0        316      327        11.0       0.0            10.1002/rfe.1210   \n",
      "1        NaN      NaN         NaN       0.0  10.1057/s41599-024-03309-6   \n",
      "2       2953     2976        23.0       3.0            10.1002/csr.2722   \n",
      "\n",
      "                                                Link  \\\n",
      "0  https://www.scopus.com/inward/record.uri?eid=2...   \n",
      "1  https://www.scopus.com/inward/record.uri?eid=2...   \n",
      "2  https://www.scopus.com/inward/record.uri?eid=2...   \n",
      "\n",
      "                                            Abstract  \n",
      "0  We address the stock predictability puzzle, a ...  \n",
      "1  This study examines the effects of religiosity...  \n",
      "2  When the environmental performance is below th...  \n",
      "Tiene 5514 filas y 16 columnas\n"
     ]
    }
   ],
   "source": [
    "# 3. Info. \n",
    "print('INFO ORIGINAL---------------------------------------')\n",
    "original = dfa.head(3)\n",
    "print(original)\n",
    "filasa,columnasa = dfa.shape\n",
    "print(f'Tiene {filasa} filas y {columnasa} columnas')"
   ]
  },
  {
   "cell_type": "code",
   "execution_count": 4,
   "metadata": {},
   "outputs": [],
   "source": [
    "#4. Clase de limpieza con expresiones regulares\n",
    "class Analyzer:\n",
    "    def __init__(self, df):\n",
    "        self.df = df\n",
    "    \n",
    "    def clean_dataframe(self):\n",
    "        # Conservar solo la columna 'Abstract'\n",
    "        self.df = self.df[['Abstract']]\n",
    "        # Convertir a minúsculas\n",
    "        self.df['Abstract'] = self.df['Abstract'].apply(lambda x: x.lower())\n",
    "    \n",
    "    def find_keywords(self):\n",
    "        # Definir las expresiones regulares para las palabras clave\n",
    "        keywords_regex = {\n",
    "            'Behavioral': r'behavioral',\n",
    "            'Finance': r'finance'\n",
    "        }\n",
    "        # Encontrar las coincidencias para cada palabra clave\n",
    "        keyword_matches = {}\n",
    "        for keyword, regex in keywords_regex.items():\n",
    "            keyword_matches[keyword] = self.df['Abstract'].apply(lambda x: bool(re.search(regex, x)))\n",
    "        \n",
    "        # Filtrar las filas que contienen todas las palabras clave\n",
    "        valid_rows = self.df[keyword_matches['Behavioral'] & keyword_matches['Finance']]\n",
    "        \n",
    "        return valid_rows"
   ]
  },
  {
   "cell_type": "code",
   "execution_count": 5,
   "metadata": {},
   "outputs": [
    {
     "name": "stderr",
     "output_type": "stream",
     "text": [
      "C:\\Users\\jorge\\AppData\\Local\\Temp\\ipykernel_41868\\2895427918.py:10: SettingWithCopyWarning: \n",
      "A value is trying to be set on a copy of a slice from a DataFrame.\n",
      "Try using .loc[row_indexer,col_indexer] = value instead\n",
      "\n",
      "See the caveats in the documentation: https://pandas.pydata.org/pandas-docs/stable/user_guide/indexing.html#returning-a-view-versus-a-copy\n",
      "  self.df['Abstract'] = self.df['Abstract'].apply(lambda x: x.lower())\n"
     ]
    }
   ],
   "source": [
    "# 5. Crear una instancia de la clase Analyzer con el DataFrame correspondiente.\n",
    "analyzer = Analyzer(dfa)\n",
    "# Limpiar el DataFrame\n",
    "analyzer.clean_dataframe()\n",
    "# Encontrar las filas que contienen todas las palabras clave\n",
    "df_definitivo = analyzer.find_keywords()"
   ]
  },
  {
   "cell_type": "code",
   "execution_count": 6,
   "metadata": {},
   "outputs": [],
   "source": [
    "# 6. Guardar el DataFrame df_definitivo en un archivo CSV\n",
    "df_definitivo.to_csv('BehavioralFinance_def.csv', index=False)"
   ]
  },
  {
   "cell_type": "code",
   "execution_count": 7,
   "metadata": {},
   "outputs": [
    {
     "name": "stdout",
     "output_type": "stream",
     "text": [
      "RESULTADOS---------------------------------------\n",
      "                                            Abstract\n",
      "0  we address the stock predictability puzzle, a ...\n",
      "1  this study examines the effects of religiosity...\n",
      "2  when the environmental performance is below th...\n",
      "Tiene 2114 filas y 1 columnas\n"
     ]
    }
   ],
   "source": [
    "# 7. Dataframe listo para utilizar\n",
    "print('RESULTADOS---------------------------------------')\n",
    "resultado = df_definitivo.head(3)\n",
    "print(resultado)\n",
    "filasb,columnasb = df_definitivo.shape\n",
    "print(f'Tiene {filasb} filas y {columnasb} columnas')"
   ]
  }
 ],
 "metadata": {
  "kernelspec": {
   "display_name": "Python 3",
   "language": "python",
   "name": "python3"
  },
  "language_info": {
   "codemirror_mode": {
    "name": "ipython",
    "version": 3
   },
   "file_extension": ".py",
   "mimetype": "text/x-python",
   "name": "python",
   "nbconvert_exporter": "python",
   "pygments_lexer": "ipython3",
   "version": "3.11.5"
  }
 },
 "nbformat": 4,
 "nbformat_minor": 2
}
