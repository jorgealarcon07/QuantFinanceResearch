{
 "cells": [
  {
   "cell_type": "code",
   "execution_count": 7,
   "metadata": {},
   "outputs": [
    {
     "name": "stderr",
     "output_type": "stream",
     "text": [
      "[nltk_data] Downloading package punkt to\n",
      "[nltk_data]     C:\\Users\\jorge\\AppData\\Roaming\\nltk_data...\n",
      "[nltk_data]   Package punkt is already up-to-date!\n",
      "[nltk_data] Downloading package stopwords to\n",
      "[nltk_data]     C:\\Users\\jorge\\AppData\\Roaming\\nltk_data...\n",
      "[nltk_data]   Package stopwords is already up-to-date!\n"
     ]
    },
    {
     "data": {
      "text/plain": [
       "True"
      ]
     },
     "execution_count": 7,
     "metadata": {},
     "output_type": "execute_result"
    }
   ],
   "source": [
    "import pandas as pd\n",
    "from gensim import corpora\n",
    "from gensim.models import LdaModel\n",
    "import nltk\n",
    "from nltk.corpus import stopwords\n",
    "from nltk.tokenize import word_tokenize\n",
    "import string\n",
    "nltk.download('punkt')\n",
    "nltk.download('stopwords')"
   ]
  },
  {
   "cell_type": "code",
   "execution_count": 8,
   "metadata": {},
   "outputs": [
    {
     "name": "stdout",
     "output_type": "stream",
     "text": [
      "Top 5 temas generados por LDA:\n",
      "Tema 0: 0.011*\"public\" + 0.010*\"behavioral\" + 0.009*\"health\" + 0.008*\"finance\" + 0.007*\"tax\" + 0.006*\"research\" + 0.006*\"people\" + 0.006*\"'s\" + 0.005*\"care\" + 0.005*\"use\"\n",
      "Tema 1: 0.013*\"finance\" + 0.012*\"behavioral\" + 0.009*\"information\" + 0.007*\"financial\" + 0.006*\"market\" + 0.006*\"risk\" + 0.006*\"©\" + 0.005*\"returns\" + 0.005*\"reserved\" + 0.004*\"rights\"\n",
      "Tema 2: 0.019*\"market\" + 0.017*\"behavioral\" + 0.016*\"finance\" + 0.014*\"investors\" + 0.011*\"model\" + 0.010*\"stock\" + 0.008*\"theory\" + 0.008*\"financial\" + 0.007*\"©\" + 0.007*\"investor\"\n",
      "Tema 3: 0.012*\"financial\" + 0.010*\"behavioral\" + 0.009*\"study\" + 0.009*\"finance\" + 0.007*\"research\" + 0.007*\"©\" + 0.006*\"investment\" + 0.005*\"’\" + 0.004*\"data\" + 0.004*\"results\"\n",
      "Tema 4: 0.014*\"finance\" + 0.013*\"behavioral\" + 0.010*\"market\" + 0.009*\"model\" + 0.007*\"©\" + 0.007*\"models\" + 0.006*\"stock\" + 0.006*\"risk\" + 0.006*\"paper\" + 0.006*\"returns\"\n"
     ]
    }
   ],
   "source": [
    "def preprocess_texts(texts):\n",
    "    \"\"\"\n",
    "    Preprocesar los textos eliminando stopwords, puntuación y convirtiendo a minúsculas.\n",
    "    \n",
    "    :param texts: Lista de textos a preprocesar\n",
    "    :return: Lista de textos tokenizados y preprocesados\n",
    "    \"\"\"\n",
    "    stop_words = set(stopwords.words('english'))\n",
    "    processed_texts = []\n",
    "    \n",
    "    for text in texts:\n",
    "        # Convertir a minúsculas y tokenizar\n",
    "        tokens = word_tokenize(text.lower())\n",
    "        \n",
    "        # Eliminar puntuación y stopwords\n",
    "        tokens = [word for word in tokens if word not in stop_words and word not in string.punctuation]\n",
    "        \n",
    "        processed_texts.append(tokens)\n",
    "    \n",
    "    return processed_texts\n",
    "\n",
    "def lda_topic_modeling(csv_file, column_name, num_topics=5, num_words=10, passes=10):\n",
    "    \"\"\"\n",
    "    Realiza un análisis de temas utilizando LDA en un archivo CSV.\n",
    "    \n",
    "    :param csv_file: Ruta al archivo CSV\n",
    "    :param column_name: Nombre de la columna que contiene los textos a analizar\n",
    "    :param num_topics: Número de temas a generar\n",
    "    :param num_words: Número de palabras más representativas por tema\n",
    "    :param passes: Número de veces que el modelo iterará sobre el corpus\n",
    "    \"\"\"\n",
    "    # Leer el archivo CSV\n",
    "    data = pd.read_csv(csv_file)\n",
    "\n",
    "    # Verificar si la columna existe\n",
    "    if column_name not in data.columns:\n",
    "        raise ValueError(f\"Columna '{column_name}' no encontrada en el archivo CSV\")\n",
    "\n",
    "    # Obtener los textos de la columna\n",
    "    texts = data[column_name].dropna().astype(str).tolist()\n",
    "\n",
    "    # Preprocesar los textos (tokenización, eliminación de stopwords y puntuación)\n",
    "    processed_texts = preprocess_texts(texts)\n",
    "\n",
    "    # Crear diccionario y corpus para el modelo LDA\n",
    "    dictionary = corpora.Dictionary(processed_texts)\n",
    "    corpus = [dictionary.doc2bow(text) for text in processed_texts]\n",
    "\n",
    "    # Entrenar el modelo LDA\n",
    "    lda_model = LdaModel(corpus, num_topics=num_topics, id2word=dictionary, passes=passes)\n",
    "\n",
    "    # Mostrar los temas generados por el modelo LDA\n",
    "    print(f\"Top {num_topics} temas generados por LDA:\")\n",
    "    for idx, topic in lda_model.print_topics(num_topics=num_topics, num_words=num_words):\n",
    "        print(f\"Tema {idx}: {topic}\")\n",
    "\n",
    "if __name__ == \"__main__\":\n",
    "    # Ruta del archivo CSV\n",
    "    csv_file = \"BehavioralFinance_def.csv\"\n",
    "\n",
    "    # Nombre de la columna que contiene los textos\n",
    "    column_name = \"Abstract\"\n",
    "\n",
    "    # Realizar el análisis de temas (puedes ajustar los parámetros según sea necesario)\n",
    "    lda_topic_modeling(csv_file, column_name, num_topics=5, num_words=10, passes=10)\n"
   ]
  }
 ],
 "metadata": {
  "kernelspec": {
   "display_name": "Python 3",
   "language": "python",
   "name": "python3"
  },
  "language_info": {
   "codemirror_mode": {
    "name": "ipython",
    "version": 3
   },
   "file_extension": ".py",
   "mimetype": "text/x-python",
   "name": "python",
   "nbconvert_exporter": "python",
   "pygments_lexer": "ipython3",
   "version": "3.11.5"
  }
 },
 "nbformat": 4,
 "nbformat_minor": 2
}
