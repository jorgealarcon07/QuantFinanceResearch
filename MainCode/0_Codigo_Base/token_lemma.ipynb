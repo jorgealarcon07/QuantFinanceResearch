{
 "cells": [
  {
   "cell_type": "markdown",
   "metadata": {},
   "source": [
    "# Normalización con lemmatización"
   ]
  },
  {
   "cell_type": "code",
   "execution_count": 5,
   "metadata": {},
   "outputs": [
    {
     "name": "stdout",
     "output_type": "stream",
     "text": [
      "[['a', 'low', 'frequency', 'factor', 'model', 'regression', 'use', 'change', 'or', 'return', 'compute', 'at', 'a', 'low', 'frequency', 'than', 'datum', 'available', '.', 'use', 'overlap', 'observation', 'to', 'estimate', 'low', 'frequency', 'factor', 'model', 'regression', 'result', 'in', 'more', 'efficient', 'estimate', 'of', 'ols', 'coefficient', 'and', 'standard', 'error', ',', 'relative', 'to', 'use', 'independent', 'observation', 'or', 'high', 'frequency', 'estimate', '.', 'I', 'derive', 'the', 'relevant', 'inference', 'and', 'propose', 'a', 'new', 'method', 'to', 'correct', 'for', 'the', 'induced', 'autocorrelation', '.', 'I', 'present', 'a', 'series', 'of', 'simulation', 'and', 'empirical', 'example', 'to', 'support', 'the', 'theoretical', 'result', '.', 'in', 'test', 'of', 'asset', 'pricing', 'model', ',', 'use', 'overlap', 'observation', 'result', 'in', 'low', 'pricing', 'error', ',', 'compare', 'to', 'exist', 'alternative', '.', '©', '2024', 'elsevi', 'B.V.'], ['we', 'develop', 'a', 'structural', 'credit', 'risk', 'model', ',', 'which', 'allow', 'we', 'to', 'price', 'equity', '/', 'credit', 'index', 'and', 'their', 'option', 'through', 'the', 'asset', 'dynamic', 'of', 'index', 'constituent', '.', 'we', 'estimate', 'the', 'model', 'via', 'MLE', 'and', 'find', 'that', 'equity', 'and', 'credit', 'index', 'option', 'price', 'be', 'well', 'explain', 'out', '-', 'of', '-', 'sample', '.', 'contrary', 'to', 'recent', 'empirical', 'finding', ',', 'the', 'two', 'option', 'market', 'be', 'not', 'inconsistently', 'price', 'through', 'the', 'lens', 'of', 'our', 'model', '.', 'return', 'on', 'both', 'option', ',', 'while', 'extreme', ',', 'do', 'not', 'indicate', 'any', 'evidence', 'of', 'misprice', '.', 'our', 'analysis', 'suggest', 'that', 'jointly', 'address', 'the', 'pricing', 'of', 'various', 'instrument', 'require', 'properly', 'attribute', 'three', 'different', 'source', 'of', 'systematic', 'risk', ':', 'asset', ',', 'variance', ',', 'and', 'jump', 'risk', '.', '©', '2024', 'elsevi', 'B.V.'], ['draw', 'upon', 'accounting', '-', 'base', 'asset', 'pricing', 'model', 'and', 'insight', 'from', 'theory', 'of', 'information', 'asymmetry', 'and', 'cognitive', 'psychology', ',', 'this', 'study', 'investigate', 'the', 'risk', 'implication', 'of', 'accounting', 'information', 'disclosure', 'from', 'dual', 'perspective', ':', 'firm', '-', 'specific', 'risk', 'and', 'market', 'risk', '.', 'our', 'finding', 'reveal', 'a', 'positive', 'association', 'between', 'earning', 'management', 'and', 'both', 'firm', '-', 'specific', 'and', 'market', 'risk', 'effect', 'of', 'accounting', 'information', ',', 'underscore', 'the', 'presence', 'of', 'post', '-', 'disclosure', 'risk', 'effect', '.', 'heterogeneity', 'analysis', 'far', 'uncover', 'the', 'moderate', 'role', 'of', 'factor', 'such', 'as', 'accounting', 'firm', 'size', ',', 'company', 'tenure', ',', 'and', 'regional', 'economic', 'growth', 'in', 'firm', '-', 'specific', 'risk', 'effect', ',', 'while', 'corporate', 'governance', 'structure', 'influence', 'market', 'risk', 'effect', '.', 'this', 'study', 'enrich', 'the', 'theoretical', 'literature', 'on', 'accounting', 'information', 'and', 'risk', 'effect', '.', '©', '2024', 'Elsevier', 'Inc.'], ['this', 'study', 'develop', 'a', 'closed', '-', 'form', 'solution', 'for', 'price', 'vulnerable', 'lookback', 'option', ',', 'which', 'combine', 'the', 'Black', '–', 'schole', 'model', 'for', 'the', 'underlie', 'asset', 'and', 'a', 'correlate', 'jump', '–', 'diffusion', 'model', 'for', 'the', 'issuer', \"'s\", 'asset', 'to', 'account', 'for', 'default', 'risk', '.', 'our', 'approach', 'rely', 'on', 'apply', 'Laplace', 'transform', 'to', 'establish', 'a', 'closed', '-', 'form', 'solution', 'and', 'compute', 'they', 'numerically', 'use', 'Laplace', 'inversion', 'algorithm', '.', 'to', 'determine', 'the', 'price', ',', 'we', 'derive', 'the', 'joint', 'distribution', 'of', 'the', 'first', 'passage', 'time', 'of', 'a', 'drift', 'brownian', 'motion', 'and', 'the', 'value', 'of', 'the', 'correlate', 'jump', '–', 'diffusion', '.', 'through', 'numerical', 'example', ',', 'we', 'demonstrate', 'the', 'accuracy', 'of', 'the', 'numerical', 'solution', 'obtain', 'through', 'our', 'method', 'and', 'the', 'stability', 'of', 'the', 'algorithm', '.', 'subsequently', ',', 'we', 'conduct', 'a', 'numerical', 'analysis', 'to', 'understand', 'how', 'counterparty', 'risk', 'influence', 'option', 'price', 'base', 'on', 'our', 'formula', '.', '©', '2024', 'elsevi', 'B.V.'], ['this', 'study', 'empirically', 'test', 'time', '-', 'vary', 'asset', 'pricing', 'model', 'in', 'an', 'emerge', 'market', 'with', 'individual', 'stock', '.', 'we', 'employ', 'a', 'recently', 'propose', 'instrumental', 'variable', '(', 'IV', ')', 'technique', 'that', 'use', 'individual', 'stock', 'as', 'test', 'asset', 'while', 'consistently', 'estimate', 'ex', '-', 'post', 'risk', 'premium', '.', 'this', 'method', 'differ', 'from', 'construct', 'test', 'portfolio', ',', 'a', 'common', 'practice', 'employ', 'to', 'mitigate', 'error', '-', 'in', '-', 'variable', 'bias', ',', 'and', ',', 'instead', ',', 'use', 'factor', 'sensitivity', 'estimate', 'from', 'alternate', 'even', 'and', 'odd', 'month', 'as', 'iv', '.', 'apply', 'this', 'approach', ',', 'we', 'observe', 'statistically', 'insignificant', 'factor', 'risk', 'premium', 'under', 'various', 'multifactor', 'model', 'in', 'asset', 'pricing', 'test', 'at', 'Borsa', 'Istanbul', ',', 'after', 'account', 'for', 'asset', 'characteristic', '.', 'our', 'method', 'facilitate', 'the', 'inclusion', 'of', 'essential', 'risk', 'or', 'return', '-', 'relate', 'characteristic', 'of', 'individual', 'stock', 'in', 'test', ',', 'raise', 'insight', 'usually', 'obscure', 'by', 'conventional', 'test', 'portfolio', '.', 'the', 'result', 'contribute', 'to', 'empirical', 'asset', 'pricing', 'by', 'highlight', 'the', 'failure', 'of', 'classical', 'model', 'to', 'explain', 'risk', 'premium', 'at', 'Borsa', 'Istanbul', ',', 'a', 'significant', 'emerge', 'stock', 'market', ',', 'when', 'test', 'with', 'individual', 'stock', 'use', 'an', 'IV', 'approach', '.', '©', '2024', 'Borsa', 'İstanbul', 'Anonim', 'Şirketi']]\n"
     ]
    }
   ],
   "source": [
    "import spacy\n",
    "import dask.dataframe as dd\n",
    "from dask.diagnostics import ProgressBar\n",
    "\n",
    "# Cargar el modelo de SpaCy con lemmatización y desactivando NER\n",
    "nlp = spacy.load('en_core_web_sm', disable=['ner'])  # Mantener desactivado 'ner' para optimización\n",
    "\n",
    "# Leer archivos CSV con Dask\n",
    "def load_data_with_dask(file_paths):\n",
    "    # Leer varios archivos CSV utilizando Dask\n",
    "    df = dd.read_csv(file_paths)\n",
    "    return df\n",
    "\n",
    "# Tokenización y lemmatización por lotes y paralelización\n",
    "def lemmatize_abstracts_batch(texts, batch_size=1000, n_process=2):\n",
    "    lemmas = []\n",
    "    with ProgressBar():  # Mostrar barra de progreso\n",
    "        for doc in nlp.pipe(texts, batch_size=batch_size, n_process=n_process):\n",
    "            # Extraer las lemas (forma base) de los tokens\n",
    "            lemmas.append([token.lemma_ for token in doc])\n",
    "    return lemmas\n",
    "\n",
    "# Cargar archivos CSV\n",
    "file_paths = ['D:\\CodeProjects\\QuantFinanceResearch\\CSVs\\AssetPricingModels.csv',\n",
    "            'D:\\CodeProjects\\QuantFinanceResearch\\CSVs\\BehavioralFinance.csv',\n",
    "            'D:\\CodeProjects\\QuantFinanceResearch\\CSVs\\CorporateFinance.csv',\n",
    "            'D:\\CodeProjects\\QuantFinanceResearch\\CSVs\\Financial_Risk_Combined.csv',\n",
    "            'D:\\CodeProjects\\QuantFinanceResearch\\CSVs\\FinancialDerivatives.csv',\n",
    "            'D:\\CodeProjects\\QuantFinanceResearch\\CSVs\\FinancialEngineering.csv',\n",
    "            'D:\\CodeProjects\\QuantFinanceResearch\\CSVs\\PortfolioOptimization.csv',\n",
    "            'D:\\CodeProjects\\QuantFinanceResearch\\CSVs\\SustainableFinance.csv']  # Cambia los nombres de los archivos CSV\n",
    "df = load_data_with_dask(file_paths)\n",
    "\n",
    "# Convertir la columna de abstracts a lista para pasarla a la función de SpaCy\n",
    "texts = df['Abstract'].compute().tolist()  # Reemplaza 'Abstract' con el nombre real de la columna de abstracts\n",
    "\n",
    "# Ejecutar la lemmatización\n",
    "lemmas = lemmatize_abstracts_batch(texts, batch_size=1000, n_process=2)  # Reducido a 2 procesos\n",
    "\n",
    "# Imprimir algunos lemas como ejemplo\n",
    "print(lemmas[:5])\n"
   ]
  },
  {
   "cell_type": "markdown",
   "metadata": {},
   "source": [
    "# Cálculo de métricas (Comparación antes y después de normalización)"
   ]
  }
 ],
 "metadata": {
  "kernelspec": {
   "display_name": "Python 3",
   "language": "python",
   "name": "python3"
  },
  "language_info": {
   "codemirror_mode": {
    "name": "ipython",
    "version": 3
   },
   "file_extension": ".py",
   "mimetype": "text/x-python",
   "name": "python",
   "nbconvert_exporter": "python",
   "pygments_lexer": "ipython3",
   "version": "3.11.5"
  }
 },
 "nbformat": 4,
 "nbformat_minor": 2
}
