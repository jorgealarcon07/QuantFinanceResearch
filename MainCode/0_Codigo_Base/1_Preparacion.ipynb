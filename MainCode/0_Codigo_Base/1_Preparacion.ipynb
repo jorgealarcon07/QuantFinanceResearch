{
 "cells": [
  {
   "cell_type": "markdown",
   "metadata": {},
   "source": [
    "# Preparación de los archivos CSV's"
   ]
  },
  {
   "cell_type": "code",
   "execution_count": 1,
   "metadata": {},
   "outputs": [],
   "source": [
    "class Analyzer:\n",
    "    def __init__(self, df, keywords_regex=None):\n",
    "        self.df = df\n",
    "        # Si se proporciona una lista de expresiones regulares, conviértela en un diccionario\n",
    "        if keywords_regex:\n",
    "            self.keywords_regex = {f'Keyword_{i+1}': regex for i, regex in enumerate(keywords_regex)}\n",
    "        else:\n",
    "            # Si no se proporciona, usa un conjunto predeterminado de palabras clave\n",
    "            self.keywords_regex = {\n",
    "                'Need': r'need',\n",
    "                'Keywords': r'keywords'\n",
    "            }\n",
    "\n",
    "    def clean_dataframe(self):\n",
    "        # Conservar solo la columna 'Abstract'\n",
    "        self.df = self.df[['Abstract']]\n",
    "        # Convertir a minúsculas\n",
    "        self.df['Abstract'] = self.df['Abstract'].apply(lambda x: x.lower())\n",
    "\n",
    "    def find_keywords(self):\n",
    "        # Encontrar las coincidencias para cada palabra clave\n",
    "        keyword_matches = {}\n",
    "        for keyword, regex in self.keywords_regex.items():\n",
    "            keyword_matches[keyword] = self.df['Abstract'].apply(lambda x: bool(re.search(regex, x)))\n",
    "        \n",
    "        # Filtrar las filas que contienen todas las palabras clave\n",
    "        valid_rows = self.df\n",
    "        for match in keyword_matches.values():\n",
    "            valid_rows = valid_rows[match]\n",
    "        \n",
    "        return valid_rows"
   ]
  }
 ],
 "metadata": {
  "kernelspec": {
   "display_name": "Python 3",
   "language": "python",
   "name": "python3"
  },
  "language_info": {
   "codemirror_mode": {
    "name": "ipython",
    "version": 3
   },
   "file_extension": ".py",
   "mimetype": "text/x-python",
   "name": "python",
   "nbconvert_exporter": "python",
   "pygments_lexer": "ipython3",
   "version": "3.11.5"
  }
 },
 "nbformat": 4,
 "nbformat_minor": 2
}
