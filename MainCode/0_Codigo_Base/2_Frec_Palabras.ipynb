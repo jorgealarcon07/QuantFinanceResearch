{
 "cells": [
  {
   "cell_type": "markdown",
   "metadata": {},
   "source": [
    "# Frecuencia de Palabras"
   ]
  },
  {
   "cell_type": "code",
   "execution_count": null,
   "metadata": {},
   "outputs": [],
   "source": [
    "import pandas as pd\n",
    "from sklearn.feature_extraction.text import CountVectorizer\n",
    "import matplotlib.pyplot as plt"
   ]
  },
  {
   "cell_type": "code",
   "execution_count": null,
   "metadata": {},
   "outputs": [],
   "source": [
    "# Clase para encontrar palabras comunes en los abstracts\n",
    "class MostCommonWords:\n",
    "    def __init__(self, df):\n",
    "        self.df = df\n",
    "    \n",
    "    def find_most_common_words(self, n=1000):\n",
    "        # Obtener los abstracts como una lista de strings\n",
    "        abstracts = self.df['Abstract'].tolist()\n",
    "        \n",
    "        # Inicializar CountVectorizer\n",
    "        vectorizer = CountVectorizer()\n",
    "        \n",
    "        # Ajustar y transformar los abstracts\n",
    "        X = vectorizer.fit_transform(abstracts)\n",
    "        \n",
    "        # Obtener el vocabulario del CountVectorizer\n",
    "        vocabulary = vectorizer.get_feature_names_out()\n",
    "        \n",
    "        # Obtener las frecuencias de las palabras\n",
    "        word_frequencies = zip(vocabulary, X.sum(axis=0).tolist()[0])\n",
    "        \n",
    "        # Ordenar las palabras por frecuencia\n",
    "        sorted_words = sorted(word_frequencies, key=lambda x: x[1], reverse=True)\n",
    "        \n",
    "        # Obtener las palabras más comunes\n",
    "        most_common_words = sorted_words[:n]\n",
    "        \n",
    "        return most_common_words"
   ]
  },
  {
   "cell_type": "code",
   "execution_count": null,
   "metadata": {},
   "outputs": [],
   "source": [
    "# Cargar el DataFrame df_definitivo desde el archivo CSV\n",
    "df_definitivo = pd.read_csv('df_definitivo.csv')\n",
    "\n",
    "# Crear una instancia de la clase MostCommonWords\n",
    "most_common_analyzer = MostCommonWords(df_definitivo)"
   ]
  },
  {
   "cell_type": "code",
   "execution_count": null,
   "metadata": {},
   "outputs": [],
   "source": [
    "# Encontrar las palabras más comunes\n",
    "most_common_words = most_common_analyzer.find_most_common_words(n=1000)\n",
    "print(\"Las 1000 palabras más comunes son:\")\n",
    "for word, frequency in most_common_words:\n",
    "    print(f\"{word}: {frequency}\")\n",
    "\n",
    "# Guardar los resultados en un archivo CSV\n",
    "df_palabras_comunes = pd.DataFrame(most_common_words, columns=['Palabra', 'Frecuencia'])\n",
    "df_palabras_comunes.to_csv('palabras_comunes.csv', index=False)"
   ]
  },
  {
   "cell_type": "code",
   "execution_count": null,
   "metadata": {},
   "outputs": [],
   "source": [
    "# Cargar el archivo CSV con las palabras comunes\n",
    "archivo_palabras_comunes = 'palabras_comunes.csv'\n",
    "df_palabras_comunes = pd.read_csv(archivo_palabras_comunes)\n",
    "\n",
    "# Obtener las 60 primeras palabras más comunes y sus frecuencias\n",
    "palabras_mas_comunes = df_palabras_comunes['Palabra'].head(60)\n",
    "frecuencias = df_palabras_comunes['Frecuencia'].head(60)"
   ]
  },
  {
   "cell_type": "code",
   "execution_count": null,
   "metadata": {},
   "outputs": [],
   "source": [
    "# Crear el gráfico de barras\n",
    "plt.figure(figsize=(10, 6))\n",
    "plt.bar(palabras_mas_comunes, frecuencias, color='skyblue')\n",
    "\n",
    "# Añadir título y etiquetas\n",
    "plt.title('Frecuencia de las 60 palabras más comunes en los abstracts')\n",
    "plt.xlabel('Palabra')\n",
    "plt.ylabel('Frecuencia')\n",
    "plt.xticks(rotation=90, ha='right')\n",
    "\n",
    "# Mostrar el gráfico\n",
    "plt.tight_layout()\n",
    "plt.show()"
   ]
  }
 ],
 "metadata": {
  "language_info": {
   "name": "python"
  }
 },
 "nbformat": 4,
 "nbformat_minor": 2
}
