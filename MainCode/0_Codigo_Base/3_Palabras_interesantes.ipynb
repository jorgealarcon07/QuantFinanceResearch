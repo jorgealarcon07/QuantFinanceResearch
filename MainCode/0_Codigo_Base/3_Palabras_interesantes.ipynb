{
 "cells": [
  {
   "cell_type": "code",
   "execution_count": null,
   "metadata": {},
   "outputs": [],
   "source": [
    "# Bibliotecas necesarias\n",
    "import pandas as pd\n",
    "from sklearn.feature_extraction import text\n",
    "import matplotlib.pyplot as plt"
   ]
  },
  {
   "cell_type": "code",
   "execution_count": null,
   "metadata": {},
   "outputs": [],
   "source": [
    "class STOPWORDAnalyzer:\n",
    "    def __init__(self, df):\n",
    "        self.df = df\n",
    "    \n",
    "    def remove_stopwords(self):\n",
    "        # Cargar las stopwords en inglés\n",
    "        stopwords = text.ENGLISH_STOP_WORDS\n",
    "        \n",
    "        # Leer el DataFrame de palabras comunes\n",
    "        df_palabras_comunes = pd.read_csv(self.df)\n",
    "        \n",
    "        # Contar la frecuencia de cada palabra antes de eliminar las stopwords\n",
    "        frecuencias_originales = df_palabras_comunes['Frecuencia']\n",
    "        \n",
    "        # Obtener las palabras del DataFrame\n",
    "        palabras_comunes = df_palabras_comunes['Palabra'].tolist()\n",
    "        \n",
    "        # Eliminar las stopwords y obtener las frecuencias actualizadas\n",
    "        palabras_interesantes = []\n",
    "        frecuencias_actualizadas = []\n",
    "        for palabra, frecuencia in zip(palabras_comunes, frecuencias_originales):\n",
    "            if palabra not in stopwords:\n",
    "                palabras_interesantes.append(palabra)\n",
    "                frecuencias_actualizadas.append(frecuencia)\n",
    "        \n",
    "        # Crear un nuevo DataFrame con las palabras de interés y sus frecuencias\n",
    "        df_palabras_interesantes = pd.DataFrame({'Palabra': palabras_interesantes, 'Frecuencia': frecuencias_actualizadas})\n",
    "        \n",
    "        return df_palabras_interesantes"
   ]
  },
  {
   "cell_type": "code",
   "execution_count": null,
   "metadata": {},
   "outputs": [],
   "source": [
    "# Ruta del archivo CSV de palabras comunes\n",
    "archivo_palabras_comunes = 'palabras_comunes.csv'\n",
    "\n",
    "# Crear una instancia de la clase STOPWORDAnalyzer\n",
    "stopword_analyzer = STOPWORDAnalyzer(archivo_palabras_comunes)\n",
    "\n",
    "# Remover las stopwords y obtener las palabras de interés con sus frecuencias\n",
    "df_palabras_interesantes = stopword_analyzer.remove_stopwords()\n",
    "\n",
    "# Guardar las palabras de interés y sus frecuencias en un nuevo archivo CSV\n",
    "df_palabras_interesantes.to_csv('palabras_interesantes.csv', index=False)"
   ]
  },
  {
   "cell_type": "code",
   "execution_count": null,
   "metadata": {},
   "outputs": [],
   "source": [
    "# Cargar el archivo CSV con las palabras de interés y sus frecuencias\n",
    "archivo_palabras_interesantes = 'palabras_interesantes.csv'\n",
    "df_palabras_interesantes = pd.read_csv(archivo_palabras_interesantes)\n",
    "\n",
    "# Obtener las 70 primeras palabras de interés y sus frecuencias\n",
    "palabras_interesantes = df_palabras_interesantes['Palabra'].head(70)\n",
    "frecuencias = df_palabras_interesantes['Frecuencia'].head(70)"
   ]
  },
  {
   "cell_type": "code",
   "execution_count": null,
   "metadata": {},
   "outputs": [],
   "source": [
    "# Crear el gráfico de barras\n",
    "plt.figure(figsize=(10, 6))\n",
    "plt.bar(palabras_interesantes, frecuencias, color='lightgreen')\n",
    "\n",
    "# Añadir título y etiquetas\n",
    "plt.title('Frecuencia de las 70 palabras más interesantes en los abstracts')\n",
    "plt.xlabel('Palabra')\n",
    "plt.ylabel('Frecuencia')\n",
    "plt.xticks(rotation=90, ha='right')\n",
    "\n",
    "# Mostrar el gráfico\n",
    "plt.tight_layout()\n",
    "plt.show()"
   ]
  }
 ],
 "metadata": {
  "language_info": {
   "name": "python"
  }
 },
 "nbformat": 4,
 "nbformat_minor": 2
}
