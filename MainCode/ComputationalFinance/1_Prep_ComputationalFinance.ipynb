{
 "cells": [
  {
   "cell_type": "code",
   "execution_count": 13,
   "metadata": {},
   "outputs": [],
   "source": [
    "import pandas as pd\n",
    "import re"
   ]
  },
  {
   "cell_type": "code",
   "execution_count": 14,
   "metadata": {},
   "outputs": [],
   "source": [
    "dfa = pd.read_csv('D:\\CodeProjects\\\\QuantFinanceResearch\\\\CSVs\\\\ComputationalFinance.csv')"
   ]
  },
  {
   "cell_type": "code",
   "execution_count": 15,
   "metadata": {},
   "outputs": [
    {
     "name": "stdout",
     "output_type": "stream",
     "text": [
      "INFO ORIGINAL---------------------------------------\n",
      "                              Authors  \\\n",
      "0                   Zheng H.; Dong B.   \n",
      "1  Katsamakas E.; Sanchez-Cartas J.M.   \n",
      "2     Maatouk H.; Rullière D.; Bay X.   \n",
      "\n",
      "                                   Author full names  \\\n",
      "0  Zheng, Haoran (57219388042); Dong, Bo (5914154...   \n",
      "1  Katsamakas, Evangelos (22985533000); Sanchez-C...   \n",
      "2  Maatouk, Hassan (57189588570); Rullière, Didie...   \n",
      "\n",
      "                           Author(s) ID  \\\n",
      "0              57219388042; 59141545700   \n",
      "1              22985533000; 57194608047   \n",
      "2  57189588570; 7801387191; 12759596600   \n",
      "\n",
      "                                               Title  Year  \\\n",
      "0  Quantum Temporal Winds: Turbulence in Financia...  2024   \n",
      "1  A computational model of the effects of borrow...  2024   \n",
      "2  Sampling large hyperplane-truncated multivaria...  2024   \n",
      "\n",
      "               Source title Volume Issue Art. No. Page start Page end  \\\n",
      "0               Mathematics     12    10     1416        NaN      NaN   \n",
      "1  Eurasian Economic Review     14     3      NaN        597      618   \n",
      "2  Computational Statistics     39     4      NaN       1779     1806   \n",
      "\n",
      "   Page count  Cited by                         DOI  \\\n",
      "0         NaN         1        10.3390/math12101416   \n",
      "1        21.0         0  10.1007/s40822-024-00280-0   \n",
      "2        27.0         0  10.1007/s00180-023-01416-7   \n",
      "\n",
      "                                                Link  \\\n",
      "0  https://www.scopus.com/inward/record.uri?eid=2...   \n",
      "1  https://www.scopus.com/inward/record.uri?eid=2...   \n",
      "2  https://www.scopus.com/inward/record.uri?eid=2...   \n",
      "\n",
      "                                            Abstract  \n",
      "0  This paper leverages turbulence theory from ph...  \n",
      "1  Peer-to-peer (P2P) lending has attracted schol...  \n",
      "2  Generating multivariate normal distributions i...  \n",
      "Tiene 3022 filas y 16 columnas\n"
     ]
    }
   ],
   "source": [
    "# 3. Info. \n",
    "print('INFO ORIGINAL---------------------------------------')\n",
    "original = dfa.head(3)\n",
    "print(original)\n",
    "filasa,columnasa = dfa.shape\n",
    "print(f'Tiene {filasa} filas y {columnasa} columnas')"
   ]
  },
  {
   "cell_type": "code",
   "execution_count": 16,
   "metadata": {},
   "outputs": [],
   "source": [
    "class Analyzer:\n",
    "    def __init__(self, df, keywords_regex=None):\n",
    "        self.df = df\n",
    "        # Si se proporciona una lista de expresiones regulares, conviértela en un diccionario\n",
    "        if keywords_regex:\n",
    "            self.keywords_regex = {f'Keyword_{i+1}': regex for i, regex in enumerate(keywords_regex)}\n",
    "        else:\n",
    "            # Si no se proporciona, usa un conjunto predeterminado de palabras clave\n",
    "            self.keywords_regex = {\n",
    "                'Need': r'need',\n",
    "                'Keywords': r'keywords'\n",
    "            }\n",
    "\n",
    "    def clean_dataframe(self):\n",
    "        # Conservar solo la columna 'Abstract'\n",
    "        self.df = self.df[['Abstract']]\n",
    "        # Convertir a minúsculas\n",
    "        self.df['Abstract'] = self.df['Abstract'].apply(lambda x: x.lower())\n",
    "\n",
    "    def find_keywords(self):\n",
    "        # Encontrar las coincidencias para cada palabra clave\n",
    "        keyword_matches = {}\n",
    "        for keyword, regex in self.keywords_regex.items():\n",
    "            keyword_matches[keyword] = self.df['Abstract'].apply(lambda x: bool(re.search(regex, x)))\n",
    "        \n",
    "        # Filtrar las filas que contienen todas las palabras clave\n",
    "        valid_rows = self.df\n",
    "        for match in keyword_matches.values():\n",
    "            valid_rows = valid_rows[match]\n",
    "        \n",
    "        return valid_rows"
   ]
  },
  {
   "cell_type": "code",
   "execution_count": 17,
   "metadata": {},
   "outputs": [
    {
     "name": "stderr",
     "output_type": "stream",
     "text": [
      "C:\\Users\\jorge\\AppData\\Local\\Temp\\ipykernel_59736\\873723902.py:18: SettingWithCopyWarning: \n",
      "A value is trying to be set on a copy of a slice from a DataFrame.\n",
      "Try using .loc[row_indexer,col_indexer] = value instead\n",
      "\n",
      "See the caveats in the documentation: https://pandas.pydata.org/pandas-docs/stable/user_guide/indexing.html#returning-a-view-versus-a-copy\n",
      "  self.df['Abstract'] = self.df['Abstract'].apply(lambda x: x.lower())\n",
      "C:\\Users\\jorge\\AppData\\Local\\Temp\\ipykernel_59736\\873723902.py:29: UserWarning: Boolean Series key will be reindexed to match DataFrame index.\n",
      "  valid_rows = valid_rows[match]\n"
     ]
    }
   ],
   "source": [
    "computational_finance = ['computational','finance']\n",
    "# 5. Crear una instancia de la clase Analyzer con el DataFrame correspondiente.\n",
    "analyzer = Analyzer(dfa,computational_finance)\n",
    "# Limpiar el DataFrame\n",
    "analyzer.clean_dataframe()\n",
    "# Encontrar las filas que contienen todas las palabras clave\n",
    "df_definitivo = analyzer.find_keywords()"
   ]
  },
  {
   "cell_type": "code",
   "execution_count": 18,
   "metadata": {},
   "outputs": [],
   "source": [
    "# 6. Guardar el DataFrame df_definitivo en un archivo CSV\n",
    "df_definitivo.to_csv('ComputationalFinance_def.csv', index=False)"
   ]
  },
  {
   "cell_type": "code",
   "execution_count": 19,
   "metadata": {},
   "outputs": [
    {
     "name": "stdout",
     "output_type": "stream",
     "text": [
      "RESULTADOS---------------------------------------\n",
      "                                            Abstract\n",
      "1  peer-to-peer (p2p) lending has attracted schol...\n",
      "2  generating multivariate normal distributions i...\n",
      "4  finding the dynamical law of observable quanti...\n",
      "Tiene 1475 filas y 1 columnas\n"
     ]
    }
   ],
   "source": [
    "# 7. Dataframe listo para utilizar\n",
    "print('RESULTADOS---------------------------------------')\n",
    "resultado = df_definitivo.head(3)\n",
    "print(resultado)\n",
    "filasb,columnasb = df_definitivo.shape\n",
    "print(f'Tiene {filasb} filas y {columnasb} columnas')"
   ]
  }
 ],
 "metadata": {
  "kernelspec": {
   "display_name": "Python 3",
   "language": "python",
   "name": "python3"
  },
  "language_info": {
   "codemirror_mode": {
    "name": "ipython",
    "version": 3
   },
   "file_extension": ".py",
   "mimetype": "text/x-python",
   "name": "python",
   "nbconvert_exporter": "python",
   "pygments_lexer": "ipython3",
   "version": "3.11.5"
  }
 },
 "nbformat": 4,
 "nbformat_minor": 2
}
