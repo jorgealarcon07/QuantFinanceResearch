{
 "cells": [
  {
   "cell_type": "code",
   "execution_count": 1,
   "metadata": {},
   "outputs": [],
   "source": [
    "import pandas as pd\n",
    "import re"
   ]
  },
  {
   "cell_type": "code",
   "execution_count": 2,
   "metadata": {},
   "outputs": [],
   "source": [
    "dfa = pd.read_csv('D:\\CodeProjects\\\\QuantFinanceResearch\\\\CSVs\\\\CorporateFinance.csv')"
   ]
  },
  {
   "cell_type": "code",
   "execution_count": 3,
   "metadata": {},
   "outputs": [
    {
     "name": "stdout",
     "output_type": "stream",
     "text": [
      "INFO ORIGINAL---------------------------------------\n",
      "                                        Authors  \\\n",
      "0  Luo C.; Lyu H.; Wen T.; Qiang W.W.; Lee H.F.   \n",
      "1                Ge W.; Yang P.; Pan X.; Ran Q.   \n",
      "2                Lai X.; Yue S.; Guo C.; Gao P.   \n",
      "\n",
      "                                   Author full names  \\\n",
      "0  Luo, Chen (58143219000); Lyu, Huaiqian (592122...   \n",
      "1  Ge, Wenfeng (57788984400); Yang, Ping (5748553...   \n",
      "2  Lai, Xiaobing (59312240400); Yue, Shujing (571...   \n",
      "\n",
      "                                        Author(s) ID  \\\n",
      "0  58143219000; 59212216300; 57437408000; 5721317...   \n",
      "1  57788984400; 57485530900; 59269668500; 5720566...   \n",
      "2  59312240400; 57162289200; 57221233685; 5721467...   \n",
      "\n",
      "                                               Title  Year  \\\n",
      "0  Green finance and grey air: Assessing the impa...  2024   \n",
      "1  Sustainable utilization of mining resources: E...  2024   \n",
      "2  Unleashing global potential: The impact of dig...  2024   \n",
      "\n",
      "                                  Source title Volume Issue Art. No.  \\\n",
      "0               Environmental Research Letters     19     9   094010   \n",
      "1                             Resources Policy     97   NaN   105239   \n",
      "2  Technological Forecasting and Social Change    208   NaN   123727   \n",
      "\n",
      "  Page start Page end  Page count  Cited by                              DOI  \\\n",
      "0        NaN      NaN         NaN         0         10.1088/1748-9326/ad6466   \n",
      "1        NaN      NaN         NaN         0  10.1016/j.resourpol.2024.105239   \n",
      "2        NaN      NaN         NaN         0   10.1016/j.techfore.2024.123727   \n",
      "\n",
      "                                                Link  \\\n",
      "0  https://www.scopus.com/inward/record.uri?eid=2...   \n",
      "1  https://www.scopus.com/inward/record.uri?eid=2...   \n",
      "2  https://www.scopus.com/inward/record.uri?eid=2...   \n",
      "\n",
      "                                            Abstract  \n",
      "0  In 2017, China introduced the Pilot Zones for ...  \n",
      "1  The advancement of eco-friendly mining is a cr...  \n",
      "2  This study investigates the role of digital te...  \n",
      "Tiene 10579 filas y 16 columnas\n"
     ]
    }
   ],
   "source": [
    "# 3. Info. \n",
    "print('INFO ORIGINAL---------------------------------------')\n",
    "original = dfa.head(3)\n",
    "print(original)\n",
    "filasa,columnasa = dfa.shape\n",
    "print(f'Tiene {filasa} filas y {columnasa} columnas')"
   ]
  },
  {
   "cell_type": "code",
   "execution_count": 6,
   "metadata": {},
   "outputs": [],
   "source": [
    "class Analyzer:\n",
    "    def __init__(self, df, keywords_regex=None):\n",
    "        self.df = df\n",
    "        # Si se proporciona una lista de expresiones regulares, conviértela en un diccionario\n",
    "        if keywords_regex:\n",
    "            self.keywords_regex = {f'Keyword_{i+1}': regex for i, regex in enumerate(keywords_regex)}\n",
    "        else:\n",
    "            # Si no se proporciona, usa un conjunto predeterminado de palabras clave\n",
    "            self.keywords_regex = {\n",
    "                'Need': r'need',\n",
    "                'Keywords': r'keywords'\n",
    "            }\n",
    "\n",
    "    def clean_dataframe(self):\n",
    "        # Conservar solo la columna 'Abstract'\n",
    "        self.df = self.df[['Abstract']]\n",
    "        # Convertir a minúsculas\n",
    "        self.df['Abstract'] = self.df['Abstract'].apply(lambda x: x.lower())\n",
    "\n",
    "    def find_keywords(self):\n",
    "        # Encontrar las coincidencias para cada palabra clave\n",
    "        keyword_matches = {}\n",
    "        for keyword, regex in self.keywords_regex.items():\n",
    "            keyword_matches[keyword] = self.df['Abstract'].apply(lambda x: bool(re.search(regex, x)))\n",
    "        \n",
    "        # Filtrar las filas que contienen todas las palabras clave\n",
    "        valid_rows = self.df\n",
    "        for match in keyword_matches.values():\n",
    "            valid_rows = valid_rows[match]\n",
    "        \n",
    "        return valid_rows"
   ]
  },
  {
   "cell_type": "code",
   "execution_count": 7,
   "metadata": {},
   "outputs": [
    {
     "name": "stderr",
     "output_type": "stream",
     "text": [
      "C:\\Users\\jorge\\AppData\\Local\\Temp\\ipykernel_54716\\873723902.py:18: SettingWithCopyWarning: \n",
      "A value is trying to be set on a copy of a slice from a DataFrame.\n",
      "Try using .loc[row_indexer,col_indexer] = value instead\n",
      "\n",
      "See the caveats in the documentation: https://pandas.pydata.org/pandas-docs/stable/user_guide/indexing.html#returning-a-view-versus-a-copy\n",
      "  self.df['Abstract'] = self.df['Abstract'].apply(lambda x: x.lower())\n",
      "C:\\Users\\jorge\\AppData\\Local\\Temp\\ipykernel_54716\\873723902.py:29: UserWarning: Boolean Series key will be reindexed to match DataFrame index.\n",
      "  valid_rows = valid_rows[match]\n"
     ]
    }
   ],
   "source": [
    "corporate_finance = ['corporate','finance']\n",
    "# 5. Crear una instancia de la clase Analyzer con el DataFrame correspondiente.\n",
    "analyzer = Analyzer(dfa,corporate_finance)\n",
    "# Limpiar el DataFrame\n",
    "analyzer.clean_dataframe()\n",
    "# Encontrar las filas que contienen todas las palabras clave\n",
    "df_definitivo = analyzer.find_keywords()"
   ]
  },
  {
   "cell_type": "code",
   "execution_count": 10,
   "metadata": {},
   "outputs": [],
   "source": [
    "# 6. Guardar el DataFrame df_definitivo en un archivo CSV\n",
    "df_definitivo.to_csv('CorporateFinance_def.csv', index=False)"
   ]
  },
  {
   "cell_type": "code",
   "execution_count": 11,
   "metadata": {},
   "outputs": [
    {
     "name": "stdout",
     "output_type": "stream",
     "text": [
      "RESULTADOS---------------------------------------\n",
      "                                            Abstract\n",
      "0  in 2017, china introduced the pilot zones for ...\n",
      "4  the integration of artificial intelligence (ai...\n",
      "5  in the digital economy era, the link between d...\n",
      "Tiene 6329 filas y 1 columnas\n"
     ]
    }
   ],
   "source": [
    "# 7. Dataframe listo para utilizar\n",
    "print('RESULTADOS---------------------------------------')\n",
    "resultado = df_definitivo.head(3)\n",
    "print(resultado)\n",
    "filasb,columnasb = df_definitivo.shape\n",
    "print(f'Tiene {filasb} filas y {columnasb} columnas')"
   ]
  }
 ],
 "metadata": {
  "kernelspec": {
   "display_name": "Python 3",
   "language": "python",
   "name": "python3"
  },
  "language_info": {
   "codemirror_mode": {
    "name": "ipython",
    "version": 3
   },
   "file_extension": ".py",
   "mimetype": "text/x-python",
   "name": "python",
   "nbconvert_exporter": "python",
   "pygments_lexer": "ipython3",
   "version": "3.11.5"
  }
 },
 "nbformat": 4,
 "nbformat_minor": 2
}
