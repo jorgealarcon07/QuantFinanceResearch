{
 "cells": [
  {
   "cell_type": "markdown",
   "metadata": {},
   "source": [
    "# Preparación de los archivos CSV's"
   ]
  },
  {
   "cell_type": "code",
   "execution_count": 1,
   "metadata": {},
   "outputs": [],
   "source": [
    "# Importar bibliotecas necesarias\n",
    "import pandas as pd\n",
    "import re"
   ]
  },
  {
   "cell_type": "markdown",
   "metadata": {},
   "source": [
    "# PASOS\n"
   ]
  },
  {
   "cell_type": "code",
   "execution_count": 2,
   "metadata": {},
   "outputs": [],
   "source": [
    "# 1. Se importan los csv y se asignan a una variable\n",
    "dfa = pd.read_csv('D:\\CodeProjects\\\\2018-2019.csv')\n",
    "dfb = pd.read_csv('D:\\CodeProjects\\\\2020-2021.csv')\n",
    "dfc = pd.read_csv('D:\\CodeProjects\\\\2022-2023.csv')"
   ]
  },
  {
   "cell_type": "code",
   "execution_count": 3,
   "metadata": {},
   "outputs": [],
   "source": [
    "# 2. Se unen los 3 dataframes en 1 solo\n",
    "all_the_lithium = pd.concat([dfa,dfb,dfc],axis=0)"
   ]
  },
  {
   "cell_type": "code",
   "execution_count": 4,
   "metadata": {},
   "outputs": [
    {
     "name": "stdout",
     "output_type": "stream",
     "text": [
      "INFO ORIGINAL---------------------------------------\n",
      "                                             Authors  \\\n",
      "0                 Ball B.; Chakravarty C.; Sarkar P.   \n",
      "1    Henschel J.; Dressler J.M.; Winter M.; Nowak S.   \n",
      "2  Yang X.-G.; Liu T.; Gao Y.; Ge S.; Leng Y.; Wa...   \n",
      "\n",
      "                                   Author full names  \\\n",
      "0  Ball, Biswajit (57208722683); Chakravarty, Cha...   \n",
      "1  Henschel, Jonas (57197830642); Dressler, Julia...   \n",
      "2  Yang, Xiao-Guang (56204013400); Liu, Teng (571...   \n",
      "\n",
      "                                        Author(s) ID  \\\n",
      "0              57208722683; 57189348018; 35598900600   \n",
      "1  57197830642; 57212386562; 7202442881; 57204520867   \n",
      "2  56204013400; 57192698987; 57092764800; 5536490...   \n",
      "\n",
      "                                               Title  Year  \\\n",
      "0  Two-Dimensional Covalent Triazine Framework as...  2019   \n",
      "1  Reaction Product Analyses of the Most Active \"...  2019   \n",
      "2  Asymmetric Temperature Modulation for Extreme ...  2019   \n",
      "\n",
      "                      Source title Volume Issue Art. No. Page start  ...  \\\n",
      "0  Journal of Physical Chemistry C    123    50      NaN      30155  ...   \n",
      "1           Chemistry of Materials     31    24      NaN       9970  ...   \n",
      "2                            Joule      3    12      NaN       3002  ...   \n",
      "\n",
      "                             DOI  \\\n",
      "0       10.1021/acs.jpcc.9b09268   \n",
      "1  10.1021/acs.chemmater.9b04133   \n",
      "2    10.1016/j.joule.2019.09.021   \n",
      "\n",
      "                                                Link  \\\n",
      "0  https://www.scopus.com/inward/record.uri?eid=2...   \n",
      "1  https://www.scopus.com/inward/record.uri?eid=2...   \n",
      "2  https://www.scopus.com/inward/record.uri?eid=2...   \n",
      "\n",
      "                                            Abstract  \\\n",
      "0  Presently, great attention is focused on the s...   \n",
      "1  The identification of decomposition products i...   \n",
      "2  Adding a 200-mile range in 10 min, so-called e...   \n",
      "\n",
      "                                     Author Keywords  \\\n",
      "0                                                NaN   \n",
      "1                                                NaN   \n",
      "2  battery degradation; extreme fast charging; hi...   \n",
      "\n",
      "                                      Index Keywords Document Type  \\\n",
      "0  Anodes; Charge transfer; Diffusion barriers; L...       Article   \n",
      "1  Cellular manufacturing; Chromatography; Electr...       Article   \n",
      "2  Battery electric vehicles; Battery management ...       Article   \n",
      "\n",
      "  Publication Stage                          Open Access  Source  \\\n",
      "0             Final                                  NaN  Scopus   \n",
      "1             Final                                  NaN  Scopus   \n",
      "2             Final  All Open Access; Bronze Open Access  Scopus   \n",
      "\n",
      "                  EID  \n",
      "0  2-s2.0-85076536630  \n",
      "1  2-s2.0-85076578552  \n",
      "2  2-s2.0-85076240275  \n",
      "\n",
      "[3 rows x 23 columns]\n",
      "49131 23\n"
     ]
    }
   ],
   "source": [
    "# 3. Info. \n",
    "print('INFO ORIGINAL---------------------------------------')\n",
    "original = all_the_lithium.head(3)\n",
    "print(original)\n",
    "filasa,columnasa = all_the_lithium.shape\n",
    "print(filasa,columnasa)"
   ]
  },
  {
   "cell_type": "code",
   "execution_count": 5,
   "metadata": {},
   "outputs": [],
   "source": [
    "#4. Clase de limpieza con expresiones regulares\n",
    "class LithiumAnalyzer:\n",
    "    def __init__(self, df):\n",
    "        self.df = df\n",
    "    \n",
    "    def clean_dataframe(self):\n",
    "        # Conservar solo la columna 'Abstract'\n",
    "        self.df = self.df[['Abstract']]\n",
    "        # Convertir a minúsculas\n",
    "        self.df['Abstract'] = self.df['Abstract'].apply(lambda x: x.lower())\n",
    "    \n",
    "    def find_keywords(self):\n",
    "        # Definir las expresiones regulares para las palabras clave\n",
    "        keywords_regex = {\n",
    "            'lithium': r'lithium',\n",
    "            'batteries': r'batter(y|ies)?',\n",
    "            'ion': r'ion'\n",
    "        }\n",
    "        # Encontrar las coincidencias para cada palabra clave\n",
    "        keyword_matches = {}\n",
    "        for keyword, regex in keywords_regex.items():\n",
    "            keyword_matches[keyword] = self.df['Abstract'].apply(lambda x: bool(re.search(regex, x)))\n",
    "        \n",
    "        # Filtrar las filas que contienen todas las palabras clave\n",
    "        valid_rows = self.df[keyword_matches['lithium'] & keyword_matches['batteries'] & keyword_matches['ion']]\n",
    "        \n",
    "        return valid_rows"
   ]
  },
  {
   "cell_type": "code",
   "execution_count": 6,
   "metadata": {},
   "outputs": [
    {
     "name": "stderr",
     "output_type": "stream",
     "text": [
      "C:\\Users\\jorge\\AppData\\Local\\Temp\\ipykernel_77060\\2856358543.py:10: SettingWithCopyWarning: \n",
      "A value is trying to be set on a copy of a slice from a DataFrame.\n",
      "Try using .loc[row_indexer,col_indexer] = value instead\n",
      "\n",
      "See the caveats in the documentation: https://pandas.pydata.org/pandas-docs/stable/user_guide/indexing.html#returning-a-view-versus-a-copy\n",
      "  self.df['Abstract'] = self.df['Abstract'].apply(lambda x: x.lower())\n"
     ]
    }
   ],
   "source": [
    "# 5. Crear una instancia de la clase LithiumAnalyzer con el DataFrame 'all_the_lithium'\n",
    "analyzer = LithiumAnalyzer(all_the_lithium)\n",
    "# Limpiar el DataFrame\n",
    "analyzer.clean_dataframe()\n",
    "# Encontrar las filas que contienen todas las palabras clave\n",
    "df_definitivo = analyzer.find_keywords()"
   ]
  },
  {
   "cell_type": "code",
   "execution_count": 7,
   "metadata": {},
   "outputs": [],
   "source": [
    "# 6. Guardar el DataFrame df_definitivo en un archivo CSV\n",
    "df_definitivo.to_csv('df_definitivo.csv', index=False)"
   ]
  },
  {
   "cell_type": "code",
   "execution_count": 8,
   "metadata": {},
   "outputs": [
    {
     "name": "stdout",
     "output_type": "stream",
     "text": [
      "RESULTADOS---------------------------------------\n",
      "                                            Abstract\n",
      "0  presently, great attention is focused on the s...\n",
      "1  the identification of decomposition products i...\n",
      "3  a lithium-rich layer-structured cathode materi...\n",
      "35171 1\n"
     ]
    }
   ],
   "source": [
    "# 7. Dataframe listo para utilizar\n",
    "print('RESULTADOS---------------------------------------')\n",
    "resultado = df_definitivo.head(3)\n",
    "print(resultado)\n",
    "filasb,columnasb = df_definitivo.shape\n",
    "print(filasb,columnasb)"
   ]
  }
 ],
 "metadata": {
  "kernelspec": {
   "display_name": "Python 3",
   "language": "python",
   "name": "python3"
  },
  "language_info": {
   "codemirror_mode": {
    "name": "ipython",
    "version": 3
   },
   "file_extension": ".py",
   "mimetype": "text/x-python",
   "name": "python",
   "nbconvert_exporter": "python",
   "pygments_lexer": "ipython3",
   "version": "3.11.5"
  }
 },
 "nbformat": 4,
 "nbformat_minor": 2
}
