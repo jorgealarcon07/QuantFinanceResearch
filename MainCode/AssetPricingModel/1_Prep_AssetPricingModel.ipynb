{
 "cells": [
  {
   "cell_type": "markdown",
   "metadata": {},
   "source": [
    "# Preparación de los archivos CSV's"
   ]
  },
  {
   "cell_type": "code",
   "execution_count": 2,
   "metadata": {},
   "outputs": [],
   "source": [
    "# Importar bibliotecas necesarias\n",
    "import pandas as pd\n",
    "import re"
   ]
  },
  {
   "cell_type": "markdown",
   "metadata": {},
   "source": [
    "# PASOS\n"
   ]
  },
  {
   "cell_type": "code",
   "execution_count": 3,
   "metadata": {},
   "outputs": [],
   "source": [
    "# 1. Se importan los csv y se asignan a una variable\n",
    "dfa = pd.read_csv('D:\\CodeProjects\\\\QuantFinanceResearch\\\\CSVs\\\\AssetPricingModels.csv')"
   ]
  },
  {
   "cell_type": "code",
   "execution_count": 4,
   "metadata": {},
   "outputs": [],
   "source": [
    "# 2. Se unen los 3 dataframes en 1 solo\n",
    "# Sólo hay un DataFrame"
   ]
  },
  {
   "cell_type": "code",
   "execution_count": 8,
   "metadata": {},
   "outputs": [
    {
     "name": "stdout",
     "output_type": "stream",
     "text": [
      "INFO ORIGINAL---------------------------------------\n",
      "                                        Authors  \\\n",
      "0                                    Dossani A.   \n",
      "1  Doshi H.; Ericsson J.; Fournier M.; Seo S.B.   \n",
      "2                             Xiong Y.; Wang Y.   \n",
      "\n",
      "                                   Author full names  \\\n",
      "0                        Dossani, Asad (57197775100)   \n",
      "1  Doshi, Hitesh (7004426328); Ericsson, Jan (710...   \n",
      "2  Xiong, Yuhao (59237912700); Wang, Yonghai (558...   \n",
      "\n",
      "                                       Author(s) ID  \\\n",
      "0                                       57197775100   \n",
      "1  7004426328; 7102958177; 57201729161; 57204187297   \n",
      "2                          59237912700; 55837032200   \n",
      "\n",
      "                                               Title  Year  \\\n",
      "0  Estimation and inference in low frequency fact...  2024   \n",
      "1  The risk and return of equity and credit index...  2024   \n",
      "2  Research on the risk effects of accounting inf...  2024   \n",
      "\n",
      "                                    Source title Volume Issue Art. No.  \\\n",
      "0                   Journal of Empirical Finance     78   NaN   101536   \n",
      "1                 Journal of Financial Economics    161   NaN   103932   \n",
      "2  International Review of Economics and Finance     95   NaN   103450   \n",
      "\n",
      "  Page start Page end  Page count  Cited by                            DOI  \\\n",
      "0        NaN      NaN         NaN         0  10.1016/j.jempfin.2024.101536   \n",
      "1        NaN      NaN         NaN         0  10.1016/j.jfineco.2024.103932   \n",
      "2        NaN      NaN         NaN         0     10.1016/j.iref.2024.103450   \n",
      "\n",
      "                                                Link  \\\n",
      "0  https://www.scopus.com/inward/record.uri?eid=2...   \n",
      "1  https://www.scopus.com/inward/record.uri?eid=2...   \n",
      "2  https://www.scopus.com/inward/record.uri?eid=2...   \n",
      "\n",
      "                                            Abstract  \n",
      "0  A low frequency factor model regression uses c...  \n",
      "1  We develop a structural credit risk model, whi...  \n",
      "2  Drawing upon accounting-based asset pricing mo...  \n",
      "Tiene 9061 filas y 16 columnas\n"
     ]
    }
   ],
   "source": [
    "# 3. Info. \n",
    "print('INFO ORIGINAL---------------------------------------')\n",
    "original = dfa.head(3)\n",
    "print(original)\n",
    "filasa,columnasa = dfa.shape\n",
    "print(f'Tiene {filasa} filas y {columnasa} columnas')"
   ]
  },
  {
   "cell_type": "code",
   "execution_count": 9,
   "metadata": {},
   "outputs": [],
   "source": [
    "#4. Clase de limpieza con expresiones regulares\n",
    "class Analyzer:\n",
    "    def __init__(self, df):\n",
    "        self.df = df\n",
    "    \n",
    "    def clean_dataframe(self):\n",
    "        # Conservar solo la columna 'Abstract'\n",
    "        self.df = self.df[['Abstract']]\n",
    "        # Convertir a minúsculas\n",
    "        self.df['Abstract'] = self.df['Abstract'].apply(lambda x: x.lower())\n",
    "    \n",
    "    def find_keywords(self):\n",
    "        # Definir las expresiones regulares para las palabras clave\n",
    "        keywords_regex = {\n",
    "            'asset': r'asset',\n",
    "            'pricing': r'pricing',\n",
    "            'models': r'model( |s)?'\n",
    "        }\n",
    "        # Encontrar las coincidencias para cada palabra clave\n",
    "        keyword_matches = {}\n",
    "        for keyword, regex in keywords_regex.items():\n",
    "            keyword_matches[keyword] = self.df['Abstract'].apply(lambda x: bool(re.search(regex, x)))\n",
    "        \n",
    "        # Filtrar las filas que contienen todas las palabras clave\n",
    "        valid_rows = self.df[keyword_matches['asset'] & keyword_matches['pricing'] & keyword_matches['models']]\n",
    "        \n",
    "        return valid_rows"
   ]
  },
  {
   "cell_type": "code",
   "execution_count": 10,
   "metadata": {},
   "outputs": [
    {
     "name": "stderr",
     "output_type": "stream",
     "text": [
      "C:\\Users\\jorge\\AppData\\Local\\Temp\\ipykernel_85480\\3998241146.py:10: SettingWithCopyWarning: \n",
      "A value is trying to be set on a copy of a slice from a DataFrame.\n",
      "Try using .loc[row_indexer,col_indexer] = value instead\n",
      "\n",
      "See the caveats in the documentation: https://pandas.pydata.org/pandas-docs/stable/user_guide/indexing.html#returning-a-view-versus-a-copy\n",
      "  self.df['Abstract'] = self.df['Abstract'].apply(lambda x: x.lower())\n"
     ]
    }
   ],
   "source": [
    "# 5. Crear una instancia de la clase LithiumAnalyzer con el DataFrame 'all_the_lithium'\n",
    "analyzer = Analyzer(dfa)\n",
    "# Limpiar el DataFrame\n",
    "analyzer.clean_dataframe()\n",
    "# Encontrar las filas que contienen todas las palabras clave\n",
    "df_definitivo = analyzer.find_keywords()"
   ]
  },
  {
   "cell_type": "code",
   "execution_count": 11,
   "metadata": {},
   "outputs": [],
   "source": [
    "# 6. Guardar el DataFrame df_definitivo en un archivo CSV\n",
    "df_definitivo.to_csv('AssetPricingModels_dfdef.csv', index=False)"
   ]
  },
  {
   "cell_type": "code",
   "execution_count": 12,
   "metadata": {},
   "outputs": [
    {
     "name": "stdout",
     "output_type": "stream",
     "text": [
      "RESULTADOS---------------------------------------\n",
      "                                            Abstract\n",
      "0  a low frequency factor model regression uses c...\n",
      "1  we develop a structural credit risk model, whi...\n",
      "2  drawing upon accounting-based asset pricing mo...\n",
      "Tiene 7136 filas y 1 columnas\n"
     ]
    }
   ],
   "source": [
    "# 7. Dataframe listo para utilizar\n",
    "print('RESULTADOS---------------------------------------')\n",
    "resultado = df_definitivo.head(3)\n",
    "print(resultado)\n",
    "filasb,columnasb = df_definitivo.shape\n",
    "print(f'Tiene {filasb} filas y {columnasb} columnas')"
   ]
  }
 ],
 "metadata": {
  "kernelspec": {
   "display_name": "Python 3",
   "language": "python",
   "name": "python3"
  },
  "language_info": {
   "codemirror_mode": {
    "name": "ipython",
    "version": 3
   },
   "file_extension": ".py",
   "mimetype": "text/x-python",
   "name": "python",
   "nbconvert_exporter": "python",
   "pygments_lexer": "ipython3",
   "version": "3.11.5"
  }
 },
 "nbformat": 4,
 "nbformat_minor": 2
}
