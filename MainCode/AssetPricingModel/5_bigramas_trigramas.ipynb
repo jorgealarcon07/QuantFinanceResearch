{
 "cells": [
  {
   "cell_type": "markdown",
   "metadata": {},
   "source": [
    "# LIBRERIAS"
   ]
  },
  {
   "cell_type": "code",
   "execution_count": 1,
   "metadata": {},
   "outputs": [],
   "source": [
    "import pandas as pd\n",
    "from sklearn.feature_extraction.text import CountVectorizer"
   ]
  },
  {
   "cell_type": "markdown",
   "metadata": {},
   "source": [
    "# ALGORITMO"
   ]
  },
  {
   "cell_type": "code",
   "execution_count": 2,
   "metadata": {},
   "outputs": [],
   "source": [
    "def analyze_ngrams(csv_file, column_name, ngram_range=(2, 2), top_n=10):\n",
    "    \"\"\"\n",
    "    Analiza los N-gramas más comunes de un archivo CSV.\n",
    "\n",
    "    :param csv_file: Ruta al archivo CSV\n",
    "    :param column_name: Nombre de la columna que contiene los textos a analizar\n",
    "    :param ngram_range: Tupla para el rango de n-gramas (min, max), por defecto (2, 2) para bigramas\n",
    "    :param top_n: Número de n-gramas más comunes a mostrar, por defecto 10\n",
    "    \"\"\"\n",
    "    # Leer el archivo CSV\n",
    "    data = pd.read_csv(csv_file)\n",
    "\n",
    "    # Verificar si la columna existe\n",
    "    if column_name not in data.columns:\n",
    "        raise ValueError(f\"Columna '{column_name}' no encontrada en el archivo CSV\")\n",
    "\n",
    "    # Obtener los textos de la columna\n",
    "    texts = data[column_name].dropna().astype(str).tolist()\n",
    "\n",
    "    # Crear el vectorizador de N-gramas\n",
    "    vectorizer = CountVectorizer(ngram_range=ngram_range, stop_words='english')\n",
    "    ngram_matrix = vectorizer.fit_transform(texts)\n",
    "\n",
    "    # Obtener los nombres de los n-gramas y sus frecuencias\n",
    "    feature_names = vectorizer.get_feature_names_out()\n",
    "    word_counts = ngram_matrix.sum(axis=0).A1\n",
    "    ngram_counts = dict(zip(feature_names, word_counts))\n",
    "\n",
    "    # Ordenar los n-gramas por su frecuencia de aparición\n",
    "    sorted_ngrams = sorted(ngram_counts.items(), key=lambda item: item[1], reverse=True)\n",
    "\n",
    "    # Mostrar los N-gramas más comunes\n",
    "    print(f\"Top {top_n} N-gramas más comunes:\")\n",
    "    for ngram, count in sorted_ngrams[:top_n]:\n",
    "        print(f\"{ngram}: {count}\")\n"
   ]
  },
  {
   "cell_type": "markdown",
   "metadata": {},
   "source": [
    "# IMPLEMENTACION"
   ]
  },
  {
   "cell_type": "code",
   "execution_count": 9,
   "metadata": {},
   "outputs": [
    {
     "name": "stdout",
     "output_type": "stream",
     "text": [
      "Top 15 N-gramas más comunes:\n",
      "asset pricing: 5868\n",
      "pricing model: 3464\n",
      "capital asset: 1784\n",
      "pricing models: 1536\n",
      "rights reserved: 1142\n",
      "stock market: 1088\n",
      "option pricing: 1059\n",
      "stock returns: 919\n",
      "factor model: 900\n",
      "fama french: 887\n",
      "model capm: 776\n",
      "underlying asset: 755\n",
      "asset price: 649\n",
      "black scholes: 626\n",
      "stochastic volatility: 617\n",
      "-------------------------------------------\n",
      "Top 15 N-gramas más comunes:\n",
      "asset pricing model: 2788\n",
      "capital asset pricing: 1771\n",
      "asset pricing models: 1198\n",
      "pricing model capm: 766\n",
      "elsevier rights reserved: 405\n",
      "fama french factor: 346\n",
      "design methodology approach: 318\n",
      "taylor francis group: 313\n",
      "black scholes model: 264\n",
      "based asset pricing: 263\n",
      "french factor model: 258\n",
      "science business media: 217\n",
      "springer science business: 217\n",
      "option pricing model: 216\n",
      "factor asset pricing: 202\n"
     ]
    }
   ],
   "source": [
    "if __name__ == \"__main__\":\n",
    "    # Ruta del archivo CSV\n",
    "    csv_file = \"AssetPricingModels_dfdef.csv\"\n",
    "\n",
    "    # Nombre de la columna que contiene los textos\n",
    "    column_name = \"Abstract\"\n",
    "\n",
    "    # Análisis de bigramas (puedes cambiar el rango de N-gramas y el top_n si lo deseas)\n",
    "    analyze_ngrams(csv_file, column_name, ngram_range=(2, 2), top_n=15)\n",
    "    print('-------------------------------------------')\n",
    "    analyze_ngrams(csv_file, column_name, ngram_range=(3, 3), top_n=15)"
   ]
  }
 ],
 "metadata": {
  "kernelspec": {
   "display_name": "Python 3",
   "language": "python",
   "name": "python3"
  },
  "language_info": {
   "codemirror_mode": {
    "name": "ipython",
    "version": 3
   },
   "file_extension": ".py",
   "mimetype": "text/x-python",
   "name": "python",
   "nbconvert_exporter": "python",
   "pygments_lexer": "ipython3",
   "version": "3.11.5"
  }
 },
 "nbformat": 4,
 "nbformat_minor": 2
}
