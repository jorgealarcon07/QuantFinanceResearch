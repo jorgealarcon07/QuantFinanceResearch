{
 "cells": [
  {
   "cell_type": "markdown",
   "metadata": {},
   "source": [
    "# Limpieza de caracteres no deseados"
   ]
  },
  {
   "cell_type": "code",
   "execution_count": 5,
   "metadata": {},
   "outputs": [
    {
     "name": "stdout",
     "output_type": "stream",
     "text": [
      "Limpieza completada. Archivo guardado como 'cleared_abstracts.csv'.\n"
     ]
    }
   ],
   "source": [
    "import pandas as pd\n",
    "import re\n",
    "\n",
    "# Función para eliminar caracteres no deseados\n",
    "def clean_text(text):\n",
    "    # Eliminar puntuación, números y caracteres especiales\n",
    "    text = re.sub(r'[^a-zA-Z\\s]', '', text)\n",
    "    # Eliminar espacios extra\n",
    "    text = re.sub(r'\\s+', ' ', text).strip()\n",
    "    return text\n",
    "\n",
    "# 1. Cargar el CSV original\n",
    "df = pd.read_csv('no_stopwords_abstracts.csv')\n",
    "\n",
    "# 2. Limpiar los abstracts\n",
    "df['Lemmas'] = df['Lemmas'].apply(clean_text)\n",
    "\n",
    "# 3. Guardar el resultado en un nuevo CSV\n",
    "df.to_csv('cleared_abstracts.csv', index=False)\n",
    "\n",
    "print(\"Limpieza completada. Archivo guardado como 'cleared_abstracts.csv'.\")\n"
   ]
  },
  {
   "cell_type": "markdown",
   "metadata": {},
   "source": [
    "# LDA implementado por temas y Search Grid"
   ]
  },
  {
   "cell_type": "code",
   "execution_count": 6,
   "metadata": {},
   "outputs": [
    {
     "name": "stdout",
     "output_type": "stream",
     "text": [
      "Procesando tema: SustainableFinance\n",
      "Mejor modelo para SustainableFinance con coherencia 0.3457284999605327, número de temas: 15, iteraciones: 200\n",
      "Procesando tema: CorporateFinance\n",
      "Mejor modelo para CorporateFinance con coherencia 0.33862786797328764, número de temas: 12, iteraciones: 300\n",
      "Procesando tema: AssetPricingModels\n",
      "Mejor modelo para AssetPricingModels con coherencia 0.3951748524351609, número de temas: 15, iteraciones: 300\n",
      "Procesando tema: BehavioralFinance\n",
      "Mejor modelo para BehavioralFinance con coherencia 0.33789321567307085, número de temas: 10, iteraciones: 300\n",
      "Procesando tema: FinancialDerivatives\n",
      "Mejor modelo para FinancialDerivatives con coherencia 0.3797934305935555, número de temas: 8, iteraciones: 100\n",
      "Procesando tema: FinancialEngineering\n",
      "Mejor modelo para FinancialEngineering con coherencia 0.37578961574716774, número de temas: 15, iteraciones: 100\n",
      "Procesando tema: FinancialRisk\n",
      "Mejor modelo para FinancialRisk con coherencia 0.48156332718993217, número de temas: 12, iteraciones: 300\n",
      "Procesando tema: PortfolioOptimization\n",
      "Mejor modelo para PortfolioOptimization con coherencia 0.42326116674678205, número de temas: 8, iteraciones: 100\n"
     ]
    }
   ],
   "source": [
    "import pandas as pd\n",
    "from gensim import corpora\n",
    "from gensim.models import LdaModel\n",
    "from gensim.models import CoherenceModel\n",
    "from sklearn.model_selection import ParameterGrid\n",
    "import pyLDAvis.gensim_models as gensimvis\n",
    "import pyLDAvis\n",
    "\n",
    "# 1. Cargar los datos\n",
    "df = pd.read_csv('cleared_abstracts.csv')\n",
    "\n",
    "# 2. Filtrar abstracts por tema\n",
    "topics = df['Topic'].unique()\n",
    "results = {}\n",
    "\n",
    "def preprocess_by_topic(df, topic):\n",
    "    # Filtrar el dataframe por un tema específico\n",
    "    filtered_df = df[df['Topic'] == topic]\n",
    "    \n",
    "    # Dividir los abstracts en listas de palabras (tokenización)\n",
    "    corpus = [abstract.split() for abstract in filtered_df['Lemmas']]\n",
    "    \n",
    "    # Crear diccionario y corpus para Gensim\n",
    "    id2word = corpora.Dictionary(corpus)\n",
    "    corpus_gensim = [id2word.doc2bow(text) for text in corpus]\n",
    "    \n",
    "    return corpus_gensim, id2word, corpus\n",
    "\n",
    "# 3. Definir función para entrenar LDA\n",
    "def train_lda(corpus, id2word, num_topics, iterations):\n",
    "    lda_model = LdaModel(corpus=corpus, id2word=id2word, num_topics=num_topics, iterations=iterations, random_state=100)\n",
    "    return lda_model\n",
    "\n",
    "# 4. Definir el espacio de parámetros (grid search)\n",
    "param_grid = {\n",
    "    'num_topics': [8, 10, 12, 15],\n",
    "    'iterations': [100, 200, 300]\n",
    "}\n",
    "grid = ParameterGrid(param_grid)\n",
    "\n",
    "# 5. Entrenar y evaluar modelos LDA por cada tema\n",
    "for topic in topics:\n",
    "    print(f'Procesando tema: {topic}')\n",
    "    \n",
    "    # Preprocesar el corpus para este tema\n",
    "    corpus_gensim, id2word, corpus = preprocess_by_topic(df, topic)\n",
    "    \n",
    "    best_model = None\n",
    "    best_score = float('-inf')\n",
    "    best_params = None\n",
    "\n",
    "    # Grid search\n",
    "    for params in grid:\n",
    "        num_topics = params['num_topics']\n",
    "        iterations = params['iterations']\n",
    "        \n",
    "        # Entrenar el modelo\n",
    "        lda_model = train_lda(corpus_gensim, id2word, num_topics=num_topics, iterations=iterations)\n",
    "        \n",
    "        # Evaluar coherencia\n",
    "        coherence_model_lda = CoherenceModel(model=lda_model, texts=corpus, dictionary=id2word, coherence='c_v')\n",
    "        coherence_score = coherence_model_lda.get_coherence()\n",
    "        \n",
    "        # Guardar el mejor modelo\n",
    "        if coherence_score > best_score:\n",
    "            best_model = lda_model\n",
    "            best_score = coherence_score\n",
    "            best_params = params\n",
    "\n",
    "    # Guardar resultados del mejor modelo por tema\n",
    "    results[topic] = {\n",
    "        'model': best_model,\n",
    "        'coherence_score': best_score,\n",
    "        'params': best_params\n",
    "    }\n",
    "\n",
    "    # Visualizar los temas del mejor modelo con pyLDAvis\n",
    "    lda_vis = gensimvis.prepare(best_model, corpus_gensim, id2word)\n",
    "    pyLDAvis.save_html(lda_vis, f'lda_visualization_{topic}.html')\n",
    "    print(f'Mejor modelo para {topic} con coherencia {best_score}, número de temas: {best_params[\"num_topics\"]}, iteraciones: {best_params[\"iterations\"]}')\n",
    "    \n",
    "# Finalmente puedes explorar cada archivo HTML para visualizar los temas.\n"
   ]
  }
 ],
 "metadata": {
  "kernelspec": {
   "display_name": "Python 3",
   "language": "python",
   "name": "python3"
  },
  "language_info": {
   "codemirror_mode": {
    "name": "ipython",
    "version": 3
   },
   "file_extension": ".py",
   "mimetype": "text/x-python",
   "name": "python",
   "nbconvert_exporter": "python",
   "pygments_lexer": "ipython3",
   "version": "3.11.5"
  }
 },
 "nbformat": 4,
 "nbformat_minor": 2
}
