{
 "cells": [
  {
   "cell_type": "markdown",
   "metadata": {},
   "source": [
    "# Definición de clase de reducción de Abstracts innecesarios con expresiones regulares sobre palabras clave deseadas"
   ]
  },
  {
   "cell_type": "code",
   "execution_count": 11,
   "metadata": {},
   "outputs": [],
   "source": [
    "import re\n",
    "import pandas as pd\n",
    "\n",
    "class Analyzer:\n",
    "    def __init__(self, df, keywords_regex):\n",
    "        self.df = df\n",
    "        self.keywords_regex = keywords_regex\n",
    "    \n",
    "    def clean_dataframe(self):\n",
    "        # Conservar solo la columna 'Abstract'\n",
    "        self.df = self.df[['Abstract']]\n",
    "        # Convertir a minúsculas\n",
    "        self.df['Abstract'] = self.df['Abstract'].apply(lambda x: x.lower())\n",
    "    \n",
    "    def find_keywords(self):\n",
    "        # Encontrar las coincidencias para cada palabra clave\n",
    "        keyword_matches = {}\n",
    "        for keyword, regex in self.keywords_regex.items():\n",
    "            if regex is not None:  # Si no es None, buscar coincidencias\n",
    "                keyword_matches[keyword] = self.df['Abstract'].apply(lambda x: bool(re.search(regex, x)))\n",
    "            else:\n",
    "                keyword_matches[keyword] = True  # Si es None, lo tratamos como True (todas las filas pasan)\n",
    "\n",
    "        # Inicialmente, todas las filas son válidas\n",
    "        valid_rows = self.df\n",
    "        # Filtrar las filas que contienen todas las palabras clave\n",
    "        for match in keyword_matches.values():\n",
    "            if isinstance(match, pd.Series):  # Solo filtrar si hay un patrón definido\n",
    "                valid_rows = valid_rows[match]\n",
    "        \n",
    "        return valid_rows\n"
   ]
  },
  {
   "cell_type": "markdown",
   "metadata": {},
   "source": [
    "## Temas y palabras clave con el que se usará la clase "
   ]
  },
  {
   "cell_type": "code",
   "execution_count": 12,
   "metadata": {},
   "outputs": [],
   "source": [
    "# Definir los archivos CSV y las palabras clave correspondientes\n",
    "topics = [\n",
    "    {\n",
    "        'filename': 'D:\\\\CodeProjects\\\\QuantFinanceResearch\\\\CSVs\\\\BehavioralFinance.csv',\n",
    "        'keywords': {\n",
    "            'first_word': r'behavioral',\n",
    "            'second_word': r'finance'\n",
    "        },\n",
    "        'output': 'BehavioralFinance_touse.csv'\n",
    "    },\n",
    "    {\n",
    "        'filename': 'D:\\\\CodeProjects\\\\QuantFinanceResearch\\\\CSVs\\\\FinancialDerivatives.csv',\n",
    "        'keywords': {\n",
    "            'first_word': r'financial',\n",
    "            'second_word': r'derivative( |s)?'\n",
    "        },\n",
    "        'output': 'FinancialDerivatives_touse.csv'\n",
    "    },\n",
    "    {\n",
    "        'filename': 'D:\\\\CodeProjects\\\\QuantFinanceResearch\\\\CSVs\\\\AssetPricingModels.csv',\n",
    "        'keywords': {\n",
    "            'first_word': r'asset',\n",
    "            'second_word': r'pricing',\n",
    "            'third_word': r'model( |s)?'\n",
    "        },\n",
    "        'output': 'AssetPricingModels_touse.csv'\n",
    "    },\n",
    "    {\n",
    "        'filename': 'D:\\\\CodeProjects\\\\QuantFinanceResearch\\\\CSVs\\\\CorporateFinance.csv',\n",
    "        'keywords': {\n",
    "            'first_word': r'corporate',\n",
    "            'second_word': r'finance'\n",
    "        },\n",
    "        'output': 'CorporateFinance_touse.csv'\n",
    "    },\n",
    "    {\n",
    "        'filename': 'D:\\\\CodeProjects\\\\QuantFinanceResearch\\\\CSVs\\\\SustainableFinance.csv',\n",
    "        'keywords': {\n",
    "            'first_word': r'sustainable',\n",
    "            'second_word': r'finance'\n",
    "        },\n",
    "        'output': 'SustainableFinance_touse.csv'\n",
    "    },\n",
    "    {\n",
    "        'filename': 'D:\\\\CodeProjects\\\\QuantFinanceResearch\\\\CSVs\\\\PortfolioOptimization.csv',\n",
    "        'keywords': {\n",
    "            'first_word': r'portfolio',\n",
    "            'second_word': r'optimization'\n",
    "        },\n",
    "        'output': 'PortfolioOptimization_touse.csv'\n",
    "    },\n",
    "    {\n",
    "        'filename': 'D:\\\\CodeProjects\\\\QuantFinanceResearch\\\\CSVs\\\\FinancialEngineering.csv',\n",
    "        'keywords': {\n",
    "            'first_word': r'financial',\n",
    "            'second_word': r'engineering'\n",
    "        },\n",
    "        'output': 'FinancialEngineering_touse.csv'\n",
    "    },\n",
    "    {\n",
    "        'filename': 'D:\\\\CodeProjects\\\\QuantFinanceResearch\\\\CSVs\\\\Financial_Risk_combined.csv',\n",
    "        'keywords': {\n",
    "            'first_word': r'financial',\n",
    "            'second_word': r'risk'\n",
    "        },\n",
    "        'output': 'FinancialRisk_touse.csv'\n",
    "    }\n",
    "]\n",
    "\n"
   ]
  },
  {
   "cell_type": "markdown",
   "metadata": {},
   "source": [
    "## Implementación de la clase sobre los temas y palabras clave"
   ]
  },
  {
   "cell_type": "code",
   "execution_count": 13,
   "metadata": {},
   "outputs": [
    {
     "name": "stderr",
     "output_type": "stream",
     "text": [
      "C:\\Users\\jorge\\AppData\\Local\\Temp\\ipykernel_96680\\1754431257.py:13: SettingWithCopyWarning: \n",
      "A value is trying to be set on a copy of a slice from a DataFrame.\n",
      "Try using .loc[row_indexer,col_indexer] = value instead\n",
      "\n",
      "See the caveats in the documentation: https://pandas.pydata.org/pandas-docs/stable/user_guide/indexing.html#returning-a-view-versus-a-copy\n",
      "  self.df['Abstract'] = self.df['Abstract'].apply(lambda x: x.lower())\n",
      "C:\\Users\\jorge\\AppData\\Local\\Temp\\ipykernel_96680\\1754431257.py:29: UserWarning: Boolean Series key will be reindexed to match DataFrame index.\n",
      "  valid_rows = valid_rows[match]\n"
     ]
    },
    {
     "name": "stdout",
     "output_type": "stream",
     "text": [
      "Procesado D:\\CodeProjects\\QuantFinanceResearch\\CSVs\\BehavioralFinance.csv -> BehavioralFinance_touse.csv\n",
      "                                            Abstract\n",
      "0  we address the stock predictability puzzle, a ...\n",
      "1  this study examines the effects of religiosity...\n",
      "2  when the environmental performance is below th...\n",
      "Tiene 2114 filas y 1 columnas\n",
      "---------------------------------------\n"
     ]
    },
    {
     "name": "stderr",
     "output_type": "stream",
     "text": [
      "C:\\Users\\jorge\\AppData\\Local\\Temp\\ipykernel_96680\\1754431257.py:13: SettingWithCopyWarning: \n",
      "A value is trying to be set on a copy of a slice from a DataFrame.\n",
      "Try using .loc[row_indexer,col_indexer] = value instead\n",
      "\n",
      "See the caveats in the documentation: https://pandas.pydata.org/pandas-docs/stable/user_guide/indexing.html#returning-a-view-versus-a-copy\n",
      "  self.df['Abstract'] = self.df['Abstract'].apply(lambda x: x.lower())\n",
      "C:\\Users\\jorge\\AppData\\Local\\Temp\\ipykernel_96680\\1754431257.py:29: UserWarning: Boolean Series key will be reindexed to match DataFrame index.\n",
      "  valid_rows = valid_rows[match]\n"
     ]
    },
    {
     "name": "stdout",
     "output_type": "stream",
     "text": [
      "Procesado D:\\CodeProjects\\QuantFinanceResearch\\CSVs\\FinancialDerivatives.csv -> FinancialDerivatives_touse.csv\n",
      "                                             Abstract\n",
      "2   blockchain technology is currently revolutioni...\n",
      "7   we introduce a novel, time-efficient adaptive ...\n",
      "10  as a type of financial derivative, the price f...\n",
      "Tiene 4373 filas y 1 columnas\n",
      "---------------------------------------\n"
     ]
    },
    {
     "name": "stderr",
     "output_type": "stream",
     "text": [
      "C:\\Users\\jorge\\AppData\\Local\\Temp\\ipykernel_96680\\1754431257.py:13: SettingWithCopyWarning: \n",
      "A value is trying to be set on a copy of a slice from a DataFrame.\n",
      "Try using .loc[row_indexer,col_indexer] = value instead\n",
      "\n",
      "See the caveats in the documentation: https://pandas.pydata.org/pandas-docs/stable/user_guide/indexing.html#returning-a-view-versus-a-copy\n",
      "  self.df['Abstract'] = self.df['Abstract'].apply(lambda x: x.lower())\n",
      "C:\\Users\\jorge\\AppData\\Local\\Temp\\ipykernel_96680\\1754431257.py:29: UserWarning: Boolean Series key will be reindexed to match DataFrame index.\n",
      "  valid_rows = valid_rows[match]\n",
      "C:\\Users\\jorge\\AppData\\Local\\Temp\\ipykernel_96680\\1754431257.py:29: UserWarning: Boolean Series key will be reindexed to match DataFrame index.\n",
      "  valid_rows = valid_rows[match]\n"
     ]
    },
    {
     "name": "stdout",
     "output_type": "stream",
     "text": [
      "Procesado D:\\CodeProjects\\QuantFinanceResearch\\CSVs\\AssetPricingModels.csv -> AssetPricingModels_touse.csv\n",
      "                                            Abstract\n",
      "0  a low frequency factor model regression uses c...\n",
      "1  we develop a structural credit risk model, whi...\n",
      "2  drawing upon accounting-based asset pricing mo...\n",
      "Tiene 7136 filas y 1 columnas\n",
      "---------------------------------------\n"
     ]
    },
    {
     "name": "stderr",
     "output_type": "stream",
     "text": [
      "C:\\Users\\jorge\\AppData\\Local\\Temp\\ipykernel_96680\\1754431257.py:13: SettingWithCopyWarning: \n",
      "A value is trying to be set on a copy of a slice from a DataFrame.\n",
      "Try using .loc[row_indexer,col_indexer] = value instead\n",
      "\n",
      "See the caveats in the documentation: https://pandas.pydata.org/pandas-docs/stable/user_guide/indexing.html#returning-a-view-versus-a-copy\n",
      "  self.df['Abstract'] = self.df['Abstract'].apply(lambda x: x.lower())\n",
      "C:\\Users\\jorge\\AppData\\Local\\Temp\\ipykernel_96680\\1754431257.py:29: UserWarning: Boolean Series key will be reindexed to match DataFrame index.\n",
      "  valid_rows = valid_rows[match]\n"
     ]
    },
    {
     "name": "stdout",
     "output_type": "stream",
     "text": [
      "Procesado D:\\CodeProjects\\QuantFinanceResearch\\CSVs\\CorporateFinance.csv -> CorporateFinance_touse.csv\n",
      "                                            Abstract\n",
      "0  in 2017, china introduced the pilot zones for ...\n",
      "4  the integration of artificial intelligence (ai...\n",
      "5  in the digital economy era, the link between d...\n",
      "Tiene 6329 filas y 1 columnas\n",
      "---------------------------------------\n"
     ]
    },
    {
     "name": "stderr",
     "output_type": "stream",
     "text": [
      "C:\\Users\\jorge\\AppData\\Local\\Temp\\ipykernel_96680\\1754431257.py:13: SettingWithCopyWarning: \n",
      "A value is trying to be set on a copy of a slice from a DataFrame.\n",
      "Try using .loc[row_indexer,col_indexer] = value instead\n",
      "\n",
      "See the caveats in the documentation: https://pandas.pydata.org/pandas-docs/stable/user_guide/indexing.html#returning-a-view-versus-a-copy\n",
      "  self.df['Abstract'] = self.df['Abstract'].apply(lambda x: x.lower())\n",
      "C:\\Users\\jorge\\AppData\\Local\\Temp\\ipykernel_96680\\1754431257.py:29: UserWarning: Boolean Series key will be reindexed to match DataFrame index.\n",
      "  valid_rows = valid_rows[match]\n"
     ]
    },
    {
     "name": "stdout",
     "output_type": "stream",
     "text": [
      "Procesado D:\\CodeProjects\\QuantFinanceResearch\\CSVs\\SustainableFinance.csv -> SustainableFinance_touse.csv\n",
      "                                            Abstract\n",
      "0  governments in asian economies are under immen...\n",
      "5  the aggravation of the global warming crisis, ...\n",
      "7  developing university governance capacity for ...\n",
      "Tiene 6794 filas y 1 columnas\n",
      "---------------------------------------\n"
     ]
    },
    {
     "name": "stderr",
     "output_type": "stream",
     "text": [
      "C:\\Users\\jorge\\AppData\\Local\\Temp\\ipykernel_96680\\1754431257.py:13: SettingWithCopyWarning: \n",
      "A value is trying to be set on a copy of a slice from a DataFrame.\n",
      "Try using .loc[row_indexer,col_indexer] = value instead\n",
      "\n",
      "See the caveats in the documentation: https://pandas.pydata.org/pandas-docs/stable/user_guide/indexing.html#returning-a-view-versus-a-copy\n",
      "  self.df['Abstract'] = self.df['Abstract'].apply(lambda x: x.lower())\n",
      "C:\\Users\\jorge\\AppData\\Local\\Temp\\ipykernel_96680\\1754431257.py:29: UserWarning: Boolean Series key will be reindexed to match DataFrame index.\n",
      "  valid_rows = valid_rows[match]\n"
     ]
    },
    {
     "name": "stdout",
     "output_type": "stream",
     "text": [
      "Procesado D:\\CodeProjects\\QuantFinanceResearch\\CSVs\\PortfolioOptimization.csv -> PortfolioOptimization_touse.csv\n",
      "                                            Abstract\n",
      "0  pension funds are crucial in supporting enviro...\n",
      "1  grouping stocks within an index based on their...\n",
      "2  devising an efficient exploration of the searc...\n",
      "Tiene 8493 filas y 1 columnas\n",
      "---------------------------------------\n"
     ]
    },
    {
     "name": "stderr",
     "output_type": "stream",
     "text": [
      "C:\\Users\\jorge\\AppData\\Local\\Temp\\ipykernel_96680\\1754431257.py:13: SettingWithCopyWarning: \n",
      "A value is trying to be set on a copy of a slice from a DataFrame.\n",
      "Try using .loc[row_indexer,col_indexer] = value instead\n",
      "\n",
      "See the caveats in the documentation: https://pandas.pydata.org/pandas-docs/stable/user_guide/indexing.html#returning-a-view-versus-a-copy\n",
      "  self.df['Abstract'] = self.df['Abstract'].apply(lambda x: x.lower())\n",
      "C:\\Users\\jorge\\AppData\\Local\\Temp\\ipykernel_96680\\1754431257.py:29: UserWarning: Boolean Series key will be reindexed to match DataFrame index.\n",
      "  valid_rows = valid_rows[match]\n"
     ]
    },
    {
     "name": "stdout",
     "output_type": "stream",
     "text": [
      "Procesado D:\\CodeProjects\\QuantFinanceResearch\\CSVs\\FinancialEngineering.csv -> FinancialEngineering_touse.csv\n",
      "                                            Abstract\n",
      "1  exchange rate forecasting has a significant im...\n",
      "3  carbon capture utilisation and storage (ccus) ...\n",
      "4  cement, aggregate, and, in some situations, ad...\n",
      "Tiene 9217 filas y 1 columnas\n",
      "---------------------------------------\n"
     ]
    },
    {
     "name": "stderr",
     "output_type": "stream",
     "text": [
      "C:\\Users\\jorge\\AppData\\Local\\Temp\\ipykernel_96680\\1754431257.py:13: SettingWithCopyWarning: \n",
      "A value is trying to be set on a copy of a slice from a DataFrame.\n",
      "Try using .loc[row_indexer,col_indexer] = value instead\n",
      "\n",
      "See the caveats in the documentation: https://pandas.pydata.org/pandas-docs/stable/user_guide/indexing.html#returning-a-view-versus-a-copy\n",
      "  self.df['Abstract'] = self.df['Abstract'].apply(lambda x: x.lower())\n",
      "C:\\Users\\jorge\\AppData\\Local\\Temp\\ipykernel_96680\\1754431257.py:29: UserWarning: Boolean Series key will be reindexed to match DataFrame index.\n",
      "  valid_rows = valid_rows[match]\n"
     ]
    },
    {
     "name": "stdout",
     "output_type": "stream",
     "text": [
      "Procesado D:\\CodeProjects\\QuantFinanceResearch\\CSVs\\Financial_Risk_combined.csv -> FinancialRisk_touse.csv\n",
      "                                            Abstract\n",
      "2  managing a profitable commercial agricultural ...\n",
      "3  the growth of the carbon market has been fast;...\n",
      "5  a frequent refrain during recent debates on we...\n",
      "Tiene 92762 filas y 1 columnas\n",
      "---------------------------------------\n"
     ]
    }
   ],
   "source": [
    "# Procesar cada tema\n",
    "for topic in topics:\n",
    "    # Leer el CSV\n",
    "    df = pd.read_csv(topic['filename'])\n",
    "    \n",
    "    # Crear una instancia de Analyzer y limpiar el DataFrame\n",
    "    analyzer = Analyzer(df, topic['keywords'])\n",
    "    analyzer.clean_dataframe()\n",
    "    \n",
    "    # Obtener las filas filtradas\n",
    "    df_definitivo = analyzer.find_keywords()\n",
    "    \n",
    "    # Guardar el DataFrame filtrado en el archivo CSV correspondiente\n",
    "    df_definitivo.to_csv(topic['output'], index=False)\n",
    "    \n",
    "    # Imprimir información de resultados\n",
    "    print(f'Procesado {topic[\"filename\"]} -> {topic[\"output\"]}')\n",
    "    print(df_definitivo.head(3))\n",
    "    print(f'Tiene {df_definitivo.shape[0]} filas y {df_definitivo.shape[1]} columnas')\n",
    "    print('---------------------------------------')\n"
   ]
  }
 ],
 "metadata": {
  "kernelspec": {
   "display_name": "Python 3",
   "language": "python",
   "name": "python3"
  },
  "language_info": {
   "codemirror_mode": {
    "name": "ipython",
    "version": 3
   },
   "file_extension": ".py",
   "mimetype": "text/x-python",
   "name": "python",
   "nbconvert_exporter": "python",
   "pygments_lexer": "ipython3",
   "version": "3.11.5"
  }
 },
 "nbformat": 4,
 "nbformat_minor": 2
}
